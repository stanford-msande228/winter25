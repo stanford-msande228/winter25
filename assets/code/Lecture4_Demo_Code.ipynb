{
  "nbformat": 4,
  "nbformat_minor": 0,
  "metadata": {
    "colab": {
      "provenance": []
    },
    "kernelspec": {
      "name": "python3",
      "display_name": "Python 3"
    },
    "language_info": {
      "name": "python"
    }
  },
  "cells": [
    {
      "cell_type": "code",
      "execution_count": 14,
      "metadata": {
        "id": "HExpUw_bihvB"
      },
      "outputs": [],
      "source": [
        "import numpy as np\n",
        "\n",
        "def gen_data(n, d, p):\n",
        "    # true ATE is 1\n",
        "    W = np.random.normal(0, 1, size=(n, d))\n",
        "    D = np.random.binomial(1, p, size=(n,))\n",
        "    Y = (1 + 2 * W[:, 0]) * D - W[:, 0] + np.random.normal(size=(n,))\n",
        "    return 1 + W, D, Y"
      ]
    },
    {
      "cell_type": "markdown",
      "source": [
        "# Low dimensional covariates"
      ],
      "metadata": {
        "id": "M9H0ZlEHSjQ-"
      }
    },
    {
      "cell_type": "code",
      "source": [
        "n = 100\n",
        "d = 3\n",
        "p = .2\n",
        "W, D, Y = gen_data(n, d, p)"
      ],
      "metadata": {
        "id": "7Ssl6D57SK7t"
      },
      "execution_count": 31,
      "outputs": []
    },
    {
      "cell_type": "code",
      "source": [
        "import statsmodels.api as sm\n",
        "\n",
        "sm.OLS(Y, sm.add_constant(D)).fit(cov_type='HC0').summary().tables[1]"
      ],
      "metadata": {
        "colab": {
          "base_uri": "https://localhost:8080/",
          "height": 82
        },
        "id": "YMWzu9CJRyi1",
        "outputId": "e0c135a9-be45-4582-bf67-34a7290465a0"
      },
      "execution_count": 32,
      "outputs": [
        {
          "output_type": "execute_result",
          "data": {
            "text/plain": [
              "<class 'statsmodels.iolib.table.SimpleTable'>"
            ],
            "text/html": [
              "<table class=\"simpletable\">\n",
              "<tr>\n",
              "    <td></td>       <th>coef</th>     <th>std err</th>      <th>z</th>      <th>P>|z|</th>  <th>[0.025</th>    <th>0.975]</th>  \n",
              "</tr>\n",
              "<tr>\n",
              "  <th>const</th> <td>   -0.0232</td> <td>    0.157</td> <td>   -0.148</td> <td> 0.883</td> <td>   -0.331</td> <td>    0.285</td>\n",
              "</tr>\n",
              "<tr>\n",
              "  <th>x1</th>    <td>    1.4266</td> <td>    0.368</td> <td>    3.875</td> <td> 0.000</td> <td>    0.705</td> <td>    2.148</td>\n",
              "</tr>\n",
              "</table>"
            ],
            "text/latex": "\\begin{center}\n\\begin{tabular}{lcccccc}\n\\toprule\n               & \\textbf{coef} & \\textbf{std err} & \\textbf{z} & \\textbf{P$> |$z$|$} & \\textbf{[0.025} & \\textbf{0.975]}  \\\\\n\\midrule\n\\textbf{const} &      -0.0232  &        0.157     &    -0.148  &         0.883        &       -0.331    &        0.285     \\\\\n\\textbf{x1}    &       1.4266  &        0.368     &     3.875  &         0.000        &        0.705    &        2.148     \\\\\n\\bottomrule\n\\end{tabular}\n\\end{center}"
          },
          "metadata": {},
          "execution_count": 32
        }
      ]
    },
    {
      "cell_type": "code",
      "source": [
        "W = W - W.mean(axis=0)\n",
        "sm.OLS(Y, np.hstack([sm.add_constant(D), W])).fit(cov_type='HC0').summary().tables[1]"
      ],
      "metadata": {
        "colab": {
          "base_uri": "https://localhost:8080/",
          "height": 145
        },
        "id": "S0jlj-A4R_tz",
        "outputId": "5cef4d31-8005-4b92-98cb-125e749200bd"
      },
      "execution_count": 33,
      "outputs": [
        {
          "output_type": "execute_result",
          "data": {
            "text/plain": [
              "<class 'statsmodels.iolib.table.SimpleTable'>"
            ],
            "text/html": [
              "<table class=\"simpletable\">\n",
              "<tr>\n",
              "    <td></td>       <th>coef</th>     <th>std err</th>      <th>z</th>      <th>P>|z|</th>  <th>[0.025</th>    <th>0.975]</th>  \n",
              "</tr>\n",
              "<tr>\n",
              "  <th>const</th> <td>   -0.0425</td> <td>    0.127</td> <td>   -0.336</td> <td> 0.737</td> <td>   -0.291</td> <td>    0.206</td>\n",
              "</tr>\n",
              "<tr>\n",
              "  <th>x1</th>    <td>    1.5146</td> <td>    0.430</td> <td>    3.523</td> <td> 0.000</td> <td>    0.672</td> <td>    2.357</td>\n",
              "</tr>\n",
              "<tr>\n",
              "  <th>x2</th>    <td>   -0.4565</td> <td>    0.203</td> <td>   -2.250</td> <td> 0.024</td> <td>   -0.854</td> <td>   -0.059</td>\n",
              "</tr>\n",
              "<tr>\n",
              "  <th>x3</th>    <td>    0.0228</td> <td>    0.156</td> <td>    0.146</td> <td> 0.884</td> <td>   -0.283</td> <td>    0.328</td>\n",
              "</tr>\n",
              "<tr>\n",
              "  <th>x4</th>    <td>    0.0422</td> <td>    0.132</td> <td>    0.320</td> <td> 0.749</td> <td>   -0.216</td> <td>    0.301</td>\n",
              "</tr>\n",
              "</table>"
            ],
            "text/latex": "\\begin{center}\n\\begin{tabular}{lcccccc}\n\\toprule\n               & \\textbf{coef} & \\textbf{std err} & \\textbf{z} & \\textbf{P$> |$z$|$} & \\textbf{[0.025} & \\textbf{0.975]}  \\\\\n\\midrule\n\\textbf{const} &      -0.0425  &        0.127     &    -0.336  &         0.737        &       -0.291    &        0.206     \\\\\n\\textbf{x1}    &       1.5146  &        0.430     &     3.523  &         0.000        &        0.672    &        2.357     \\\\\n\\textbf{x2}    &      -0.4565  &        0.203     &    -2.250  &         0.024        &       -0.854    &       -0.059     \\\\\n\\textbf{x3}    &       0.0228  &        0.156     &     0.146  &         0.884        &       -0.283    &        0.328     \\\\\n\\textbf{x4}    &       0.0422  &        0.132     &     0.320  &         0.749        &       -0.216    &        0.301     \\\\\n\\bottomrule\n\\end{tabular}\n\\end{center}"
          },
          "metadata": {},
          "execution_count": 33
        }
      ]
    },
    {
      "cell_type": "code",
      "source": [
        "W = W - W.mean(axis=0)\n",
        "sm.OLS(Y, np.hstack([sm.add_constant(D), W, D.reshape(-1, 1) * W])).fit(cov_type='HC0').summary().tables[1]"
      ],
      "metadata": {
        "id": "qQjq_zQ9izKS",
        "colab": {
          "base_uri": "https://localhost:8080/",
          "height": 208
        },
        "outputId": "0c64229d-cb19-45a9-b04a-eb4892630e27"
      },
      "execution_count": 34,
      "outputs": [
        {
          "output_type": "execute_result",
          "data": {
            "text/plain": [
              "<class 'statsmodels.iolib.table.SimpleTable'>"
            ],
            "text/html": [
              "<table class=\"simpletable\">\n",
              "<tr>\n",
              "    <td></td>       <th>coef</th>     <th>std err</th>      <th>z</th>      <th>P>|z|</th>  <th>[0.025</th>    <th>0.975]</th>  \n",
              "</tr>\n",
              "<tr>\n",
              "  <th>const</th> <td>   -0.0491</td> <td>    0.112</td> <td>   -0.437</td> <td> 0.662</td> <td>   -0.269</td> <td>    0.171</td>\n",
              "</tr>\n",
              "<tr>\n",
              "  <th>x1</th>    <td>    1.1465</td> <td>    0.250</td> <td>    4.582</td> <td> 0.000</td> <td>    0.656</td> <td>    1.637</td>\n",
              "</tr>\n",
              "<tr>\n",
              "  <th>x2</th>    <td>   -0.9892</td> <td>    0.104</td> <td>   -9.513</td> <td> 0.000</td> <td>   -1.193</td> <td>   -0.785</td>\n",
              "</tr>\n",
              "<tr>\n",
              "  <th>x3</th>    <td>   -0.0374</td> <td>    0.124</td> <td>   -0.303</td> <td> 0.762</td> <td>   -0.280</td> <td>    0.205</td>\n",
              "</tr>\n",
              "<tr>\n",
              "  <th>x4</th>    <td>   -0.0496</td> <td>    0.109</td> <td>   -0.455</td> <td> 0.649</td> <td>   -0.263</td> <td>    0.164</td>\n",
              "</tr>\n",
              "<tr>\n",
              "  <th>x5</th>    <td>    2.2830</td> <td>    0.188</td> <td>   12.152</td> <td> 0.000</td> <td>    1.915</td> <td>    2.651</td>\n",
              "</tr>\n",
              "<tr>\n",
              "  <th>x6</th>    <td>    0.3946</td> <td>    0.249</td> <td>    1.585</td> <td> 0.113</td> <td>   -0.093</td> <td>    0.883</td>\n",
              "</tr>\n",
              "<tr>\n",
              "  <th>x7</th>    <td>   -0.2437</td> <td>    0.254</td> <td>   -0.961</td> <td> 0.337</td> <td>   -0.741</td> <td>    0.253</td>\n",
              "</tr>\n",
              "</table>"
            ],
            "text/latex": "\\begin{center}\n\\begin{tabular}{lcccccc}\n\\toprule\n               & \\textbf{coef} & \\textbf{std err} & \\textbf{z} & \\textbf{P$> |$z$|$} & \\textbf{[0.025} & \\textbf{0.975]}  \\\\\n\\midrule\n\\textbf{const} &      -0.0491  &        0.112     &    -0.437  &         0.662        &       -0.269    &        0.171     \\\\\n\\textbf{x1}    &       1.1465  &        0.250     &     4.582  &         0.000        &        0.656    &        1.637     \\\\\n\\textbf{x2}    &      -0.9892  &        0.104     &    -9.513  &         0.000        &       -1.193    &       -0.785     \\\\\n\\textbf{x3}    &      -0.0374  &        0.124     &    -0.303  &         0.762        &       -0.280    &        0.205     \\\\\n\\textbf{x4}    &      -0.0496  &        0.109     &    -0.455  &         0.649        &       -0.263    &        0.164     \\\\\n\\textbf{x5}    &       2.2830  &        0.188     &    12.152  &         0.000        &        1.915    &        2.651     \\\\\n\\textbf{x6}    &       0.3946  &        0.249     &     1.585  &         0.113        &       -0.093    &        0.883     \\\\\n\\textbf{x7}    &      -0.2437  &        0.254     &    -0.961  &         0.337        &       -0.741    &        0.253     \\\\\n\\bottomrule\n\\end{tabular}\n\\end{center}"
          },
          "metadata": {},
          "execution_count": 34
        }
      ]
    },
    {
      "cell_type": "markdown",
      "source": [
        "# What if we don't demean the covariates"
      ],
      "metadata": {
        "id": "JfDTflgQSm2t"
      }
    },
    {
      "cell_type": "code",
      "source": [
        "n = 100\n",
        "d = 1\n",
        "p = .2\n",
        "W, D, Y = gen_data(n, d, p)"
      ],
      "metadata": {
        "id": "jk5BHCaCkDB4"
      },
      "execution_count": 35,
      "outputs": []
    },
    {
      "cell_type": "markdown",
      "source": [
        "The non-interactive approach still converges to the correct ATE (albeit could still have higher standard error than the two means).\n",
        "\n",
        "The characterization of the coefficient associated with the treatment is the residual-on-residual regression coefficient:\n",
        "$$a=\\frac{E[\\tilde{Y} \\tilde{D}]}{E[\\tilde{D}^2]}$$\n",
        "The because $W$ is independent of $D$, the BLP of $D$ using $(1,W)$ is $E[D]$ (even if $W$ is not de-meaned).\n",
        "\n",
        "The normal equation associated with the intercept 1 gives:\n",
        "$$E[(D - c - \\gamma W) ] = 0 => E[D] = c + \\gamma E[W]$$\n",
        "Then the normal equation associated with $W$ gives:\n",
        "$$E[(D - E[D] - \\gamma (W - E[W])) W ] = 0 \\implies \\gamma = \\frac{E[(D - E[D]) (W - E[W])]}{E[W(W-E[W])]} = \\frac{E[D - E[D]] E[W-E[W]]}{E[W (W-E[W])] = 0}=0$$\n",
        "\n",
        "Thus the coefficient $\\alpha$ associated with $D$ in the OLS $Y\\sim D, 1, W$, even if we do not de-mean $W$ is:\n",
        "$$\\alpha = \\frac{E[(Y - \\beta_0 - \\beta'W)(D - E[D])]}{E[\\tilde{D}^2]}$$\n",
        "where $\\beta_0,\\beta$ is the BLP of $Y$ using $(1, W)$. Since $W$ is independent of $D$, we have $E[(\\beta_0 + \\beta'W)(D - E[D])]=0$ and:\n",
        "$$\\alpha = \\frac{E[(Y - \\beta_0 - \\beta'W)(D - E[D])]}{E[\\tilde{D}^2]} = \\frac{E[Y \\tilde{D}]}{E[\\tilde{D}^2]}$$\n",
        "\n",
        "Moreover, this coefficient is exactly the same as the coefficient of $Y$ using $(D, 1)$, which we have already argued that it is equal to the ATE. More concretely, the coefficient of $D$ in the BLP of $Y$ using $(D,1)$ is:\n",
        "$$\\alpha = \\frac{E[(Y-\\alpha_0) \\tilde{D}]}{E[\\tilde{D}^2]}$$\n",
        "where $\\alpha_0$ is the BLP of $Y$ using only $1$ (i.e. the mean of $Y$). But then $E[\\alpha_0 \\tilde{D}] = 0$. Thus we can also write:\n",
        "$$\\alpha = \\frac{E[Y \\tilde{D}]}{E[\\tilde{D}^2]}$$\n"
      ],
      "metadata": {
        "id": "8WvipGLYSpZH"
      }
    },
    {
      "cell_type": "code",
      "source": [
        "sm.OLS(Y, np.hstack([sm.add_constant(D), W])).fit(cov_type='HC0').summary().tables[1]"
      ],
      "metadata": {
        "colab": {
          "base_uri": "https://localhost:8080/",
          "height": 103
        },
        "id": "W01UEUrtSau7",
        "outputId": "584cc31b-2131-462c-a663-7ef0922aacfb"
      },
      "execution_count": 36,
      "outputs": [
        {
          "output_type": "execute_result",
          "data": {
            "text/plain": [
              "<class 'statsmodels.iolib.table.SimpleTable'>"
            ],
            "text/html": [
              "<table class=\"simpletable\">\n",
              "<tr>\n",
              "    <td></td>       <th>coef</th>     <th>std err</th>      <th>z</th>      <th>P>|z|</th>  <th>[0.025</th>    <th>0.975]</th>  \n",
              "</tr>\n",
              "<tr>\n",
              "  <th>const</th> <td>    0.4764</td> <td>    0.193</td> <td>    2.466</td> <td> 0.014</td> <td>    0.098</td> <td>    0.855</td>\n",
              "</tr>\n",
              "<tr>\n",
              "  <th>x1</th>    <td>    1.5791</td> <td>    0.480</td> <td>    3.291</td> <td> 0.001</td> <td>    0.639</td> <td>    2.519</td>\n",
              "</tr>\n",
              "<tr>\n",
              "  <th>x2</th>    <td>   -0.7412</td> <td>    0.124</td> <td>   -5.957</td> <td> 0.000</td> <td>   -0.985</td> <td>   -0.497</td>\n",
              "</tr>\n",
              "</table>"
            ],
            "text/latex": "\\begin{center}\n\\begin{tabular}{lcccccc}\n\\toprule\n               & \\textbf{coef} & \\textbf{std err} & \\textbf{z} & \\textbf{P$> |$z$|$} & \\textbf{[0.025} & \\textbf{0.975]}  \\\\\n\\midrule\n\\textbf{const} &       0.4764  &        0.193     &     2.466  &         0.014        &        0.098    &        0.855     \\\\\n\\textbf{x1}    &       1.5791  &        0.480     &     3.291  &         0.001        &        0.639    &        2.519     \\\\\n\\textbf{x2}    &      -0.7412  &        0.124     &    -5.957  &         0.000        &       -0.985    &       -0.497     \\\\\n\\bottomrule\n\\end{tabular}\n\\end{center}"
          },
          "metadata": {},
          "execution_count": 36
        }
      ]
    },
    {
      "cell_type": "markdown",
      "source": [
        "However, the interactive method does not recover the correct ATE if we don't demean the covariates (i.e. the coefficient associated with the treatment is not the ATE)"
      ],
      "metadata": {
        "id": "rTcVq3feS06q"
      }
    },
    {
      "cell_type": "code",
      "source": [
        "sm.OLS(Y, np.hstack([sm.add_constant(D), W, D.reshape(-1, 1) * W])).fit(cov_type='HC0').summary().tables[1]"
      ],
      "metadata": {
        "colab": {
          "base_uri": "https://localhost:8080/",
          "height": 124
        },
        "id": "wsZfECjFSew3",
        "outputId": "4b6f99dc-c7c2-4935-a7c0-1ddf5a20826f"
      },
      "execution_count": 37,
      "outputs": [
        {
          "output_type": "execute_result",
          "data": {
            "text/plain": [
              "<class 'statsmodels.iolib.table.SimpleTable'>"
            ],
            "text/html": [
              "<table class=\"simpletable\">\n",
              "<tr>\n",
              "    <td></td>       <th>coef</th>     <th>std err</th>      <th>z</th>      <th>P>|z|</th>  <th>[0.025</th>    <th>0.975]</th>  \n",
              "</tr>\n",
              "<tr>\n",
              "  <th>const</th> <td>    0.7006</td> <td>    0.176</td> <td>    3.971</td> <td> 0.000</td> <td>    0.355</td> <td>    1.046</td>\n",
              "</tr>\n",
              "<tr>\n",
              "  <th>x1</th>    <td>   -1.1414</td> <td>    0.386</td> <td>   -2.957</td> <td> 0.003</td> <td>   -1.898</td> <td>   -0.385</td>\n",
              "</tr>\n",
              "<tr>\n",
              "  <th>x2</th>    <td>   -0.9497</td> <td>    0.111</td> <td>   -8.582</td> <td> 0.000</td> <td>   -1.167</td> <td>   -0.733</td>\n",
              "</tr>\n",
              "<tr>\n",
              "  <th>x3</th>    <td>    2.3274</td> <td>    0.250</td> <td>    9.291</td> <td> 0.000</td> <td>    1.836</td> <td>    2.818</td>\n",
              "</tr>\n",
              "</table>"
            ],
            "text/latex": "\\begin{center}\n\\begin{tabular}{lcccccc}\n\\toprule\n               & \\textbf{coef} & \\textbf{std err} & \\textbf{z} & \\textbf{P$> |$z$|$} & \\textbf{[0.025} & \\textbf{0.975]}  \\\\\n\\midrule\n\\textbf{const} &       0.7006  &        0.176     &     3.971  &         0.000        &        0.355    &        1.046     \\\\\n\\textbf{x1}    &      -1.1414  &        0.386     &    -2.957  &         0.003        &       -1.898    &       -0.385     \\\\\n\\textbf{x2}    &      -0.9497  &        0.111     &    -8.582  &         0.000        &       -1.167    &       -0.733     \\\\\n\\textbf{x3}    &       2.3274  &        0.250     &     9.291  &         0.000        &        1.836    &        2.818     \\\\\n\\bottomrule\n\\end{tabular}\n\\end{center}"
          },
          "metadata": {},
          "execution_count": 37
        }
      ]
    },
    {
      "cell_type": "markdown",
      "source": [
        "# What if we have too many covariates"
      ],
      "metadata": {
        "id": "N8ugz5Q3V4ny"
      }
    },
    {
      "cell_type": "code",
      "source": [
        "np.random.seed(123)\n",
        "n = 100\n",
        "d = 80\n",
        "p = .2\n",
        "W, D, Y = gen_data(n, d, p)"
      ],
      "metadata": {
        "id": "FSieCr1sSfTJ"
      },
      "execution_count": 50,
      "outputs": []
    },
    {
      "cell_type": "code",
      "source": [
        "sm.OLS(Y, sm.add_constant(D)).fit(cov_type='HC0').summary().tables[1]"
      ],
      "metadata": {
        "colab": {
          "base_uri": "https://localhost:8080/",
          "height": 82
        },
        "id": "O0OgTCgGWSY0",
        "outputId": "05080e6f-f6df-4408-88f9-d3df46a226dc"
      },
      "execution_count": 51,
      "outputs": [
        {
          "output_type": "execute_result",
          "data": {
            "text/plain": [
              "<class 'statsmodels.iolib.table.SimpleTable'>"
            ],
            "text/html": [
              "<table class=\"simpletable\">\n",
              "<tr>\n",
              "    <td></td>       <th>coef</th>     <th>std err</th>      <th>z</th>      <th>P>|z|</th>  <th>[0.025</th>    <th>0.975]</th>  \n",
              "</tr>\n",
              "<tr>\n",
              "  <th>const</th> <td>    0.2740</td> <td>    0.141</td> <td>    1.946</td> <td> 0.052</td> <td>   -0.002</td> <td>    0.550</td>\n",
              "</tr>\n",
              "<tr>\n",
              "  <th>x1</th>    <td>    0.6005</td> <td>    0.320</td> <td>    1.876</td> <td> 0.061</td> <td>   -0.027</td> <td>    1.228</td>\n",
              "</tr>\n",
              "</table>"
            ],
            "text/latex": "\\begin{center}\n\\begin{tabular}{lcccccc}\n\\toprule\n               & \\textbf{coef} & \\textbf{std err} & \\textbf{z} & \\textbf{P$> |$z$|$} & \\textbf{[0.025} & \\textbf{0.975]}  \\\\\n\\midrule\n\\textbf{const} &       0.2740  &        0.141     &     1.946  &         0.052        &       -0.002    &        0.550     \\\\\n\\textbf{x1}    &       0.6005  &        0.320     &     1.876  &         0.061        &       -0.027    &        1.228     \\\\\n\\bottomrule\n\\end{tabular}\n\\end{center}"
          },
          "metadata": {},
          "execution_count": 51
        }
      ]
    },
    {
      "cell_type": "markdown",
      "source": [
        "Using all covariates, gives artificially small standard error due to overfitting."
      ],
      "metadata": {
        "id": "sMW2dU9hWVt5"
      }
    },
    {
      "cell_type": "code",
      "source": [
        "W = W - W.mean(axis=0)\n",
        "sm.OLS(Y, np.hstack([sm.add_constant(D), W, D.reshape(-1, 1) * W])).fit(cov_type='HC0').summary().tables[1]"
      ],
      "metadata": {
        "colab": {
          "base_uri": "https://localhost:8080/",
          "height": 1000
        },
        "id": "tiK6OdaSWFbE",
        "outputId": "36e9070c-ce03-45a7-8d92-699723977434"
      },
      "execution_count": 52,
      "outputs": [
        {
          "output_type": "stream",
          "name": "stderr",
          "text": [
            "/usr/local/lib/python3.11/dist-packages/statsmodels/regression/linear_model.py:1795: RuntimeWarning: divide by zero encountered in divide\n",
            "  return 1 - (np.divide(self.nobs - self.k_constant, self.df_resid)\n",
            "/usr/local/lib/python3.11/dist-packages/statsmodels/regression/linear_model.py:1795: RuntimeWarning: invalid value encountered in scalar multiply\n",
            "  return 1 - (np.divide(self.nobs - self.k_constant, self.df_resid)\n",
            "/usr/local/lib/python3.11/dist-packages/statsmodels/base/model.py:1894: ValueWarning: covariance of constraints does not have full rank. The number of constraints is 161, but rank is 99\n",
            "  warnings.warn('covariance of constraints does not have full '\n"
          ]
        },
        {
          "output_type": "execute_result",
          "data": {
            "text/plain": [
              "<class 'statsmodels.iolib.table.SimpleTable'>"
            ],
            "text/html": [
              "<table class=\"simpletable\">\n",
              "<tr>\n",
              "    <td></td>       <th>coef</th>     <th>std err</th>      <th>z</th>      <th>P>|z|</th>  <th>[0.025</th>    <th>0.975]</th>  \n",
              "</tr>\n",
              "<tr>\n",
              "  <th>const</th> <td>    0.3128</td> <td> 2.58e-15</td> <td> 1.21e+14</td> <td> 0.000</td> <td>    0.313</td> <td>    0.313</td>\n",
              "</tr>\n",
              "<tr>\n",
              "  <th>x1</th>    <td>    0.0398</td> <td> 3.35e-15</td> <td> 1.19e+13</td> <td> 0.000</td> <td>    0.040</td> <td>    0.040</td>\n",
              "</tr>\n",
              "<tr>\n",
              "  <th>x2</th>    <td>   -0.9660</td> <td>  5.2e-15</td> <td>-1.86e+14</td> <td> 0.000</td> <td>   -0.966</td> <td>   -0.966</td>\n",
              "</tr>\n",
              "<tr>\n",
              "  <th>x3</th>    <td>    0.6915</td> <td> 4.09e-15</td> <td> 1.69e+14</td> <td> 0.000</td> <td>    0.691</td> <td>    0.691</td>\n",
              "</tr>\n",
              "<tr>\n",
              "  <th>x4</th>    <td>   -0.6126</td> <td> 9.84e-15</td> <td>-6.23e+13</td> <td> 0.000</td> <td>   -0.613</td> <td>   -0.613</td>\n",
              "</tr>\n",
              "<tr>\n",
              "  <th>x5</th>    <td>   -0.1043</td> <td> 4.78e-15</td> <td>-2.18e+13</td> <td> 0.000</td> <td>   -0.104</td> <td>   -0.104</td>\n",
              "</tr>\n",
              "<tr>\n",
              "  <th>x6</th>    <td>    0.1444</td> <td>    7e-15</td> <td> 2.06e+13</td> <td> 0.000</td> <td>    0.144</td> <td>    0.144</td>\n",
              "</tr>\n",
              "<tr>\n",
              "  <th>x7</th>    <td>   -0.1513</td> <td> 9.07e-15</td> <td>-1.67e+13</td> <td> 0.000</td> <td>   -0.151</td> <td>   -0.151</td>\n",
              "</tr>\n",
              "<tr>\n",
              "  <th>x8</th>    <td>    0.2437</td> <td> 3.76e-15</td> <td> 6.49e+13</td> <td> 0.000</td> <td>    0.244</td> <td>    0.244</td>\n",
              "</tr>\n",
              "<tr>\n",
              "  <th>x9</th>    <td>   -0.2266</td> <td> 3.86e-15</td> <td>-5.87e+13</td> <td> 0.000</td> <td>   -0.227</td> <td>   -0.227</td>\n",
              "</tr>\n",
              "<tr>\n",
              "  <th>x10</th>   <td>    1.3168</td> <td> 6.79e-15</td> <td> 1.94e+14</td> <td> 0.000</td> <td>    1.317</td> <td>    1.317</td>\n",
              "</tr>\n",
              "<tr>\n",
              "  <th>x11</th>   <td>   -0.1948</td> <td> 1.05e-14</td> <td>-1.85e+13</td> <td> 0.000</td> <td>   -0.195</td> <td>   -0.195</td>\n",
              "</tr>\n",
              "<tr>\n",
              "  <th>x12</th>   <td>    0.5611</td> <td> 7.91e-15</td> <td>  7.1e+13</td> <td> 0.000</td> <td>    0.561</td> <td>    0.561</td>\n",
              "</tr>\n",
              "<tr>\n",
              "  <th>x13</th>   <td>    0.3243</td> <td> 5.13e-15</td> <td> 6.32e+13</td> <td> 0.000</td> <td>    0.324</td> <td>    0.324</td>\n",
              "</tr>\n",
              "<tr>\n",
              "  <th>x14</th>   <td>   -0.5151</td> <td> 3.09e-15</td> <td>-1.67e+14</td> <td> 0.000</td> <td>   -0.515</td> <td>   -0.515</td>\n",
              "</tr>\n",
              "<tr>\n",
              "  <th>x15</th>   <td>    0.6711</td> <td> 5.79e-15</td> <td> 1.16e+14</td> <td> 0.000</td> <td>    0.671</td> <td>    0.671</td>\n",
              "</tr>\n",
              "<tr>\n",
              "  <th>x16</th>   <td>   -0.1923</td> <td>  7.4e-15</td> <td> -2.6e+13</td> <td> 0.000</td> <td>   -0.192</td> <td>   -0.192</td>\n",
              "</tr>\n",
              "<tr>\n",
              "  <th>x17</th>   <td>    0.2537</td> <td>  5.1e-15</td> <td> 4.98e+13</td> <td> 0.000</td> <td>    0.254</td> <td>    0.254</td>\n",
              "</tr>\n",
              "<tr>\n",
              "  <th>x18</th>   <td>    0.3243</td> <td> 9.54e-15</td> <td>  3.4e+13</td> <td> 0.000</td> <td>    0.324</td> <td>    0.324</td>\n",
              "</tr>\n",
              "<tr>\n",
              "  <th>x19</th>   <td>    0.9780</td> <td> 1.42e-14</td> <td> 6.91e+13</td> <td> 0.000</td> <td>    0.978</td> <td>    0.978</td>\n",
              "</tr>\n",
              "<tr>\n",
              "  <th>x20</th>   <td>    0.1809</td> <td> 2.27e-15</td> <td> 7.98e+13</td> <td> 0.000</td> <td>    0.181</td> <td>    0.181</td>\n",
              "</tr>\n",
              "<tr>\n",
              "  <th>x21</th>   <td>   -0.4563</td> <td> 4.96e-15</td> <td>-9.19e+13</td> <td> 0.000</td> <td>   -0.456</td> <td>   -0.456</td>\n",
              "</tr>\n",
              "<tr>\n",
              "  <th>x22</th>   <td>   -1.0318</td> <td> 9.72e-15</td> <td>-1.06e+14</td> <td> 0.000</td> <td>   -1.032</td> <td>   -1.032</td>\n",
              "</tr>\n",
              "<tr>\n",
              "  <th>x23</th>   <td>   -1.2797</td> <td> 5.36e-15</td> <td>-2.39e+14</td> <td> 0.000</td> <td>   -1.280</td> <td>   -1.280</td>\n",
              "</tr>\n",
              "<tr>\n",
              "  <th>x24</th>   <td>    0.3182</td> <td> 5.64e-15</td> <td> 5.64e+13</td> <td> 0.000</td> <td>    0.318</td> <td>    0.318</td>\n",
              "</tr>\n",
              "<tr>\n",
              "  <th>x25</th>   <td>    0.1758</td> <td> 8.61e-15</td> <td> 2.04e+13</td> <td> 0.000</td> <td>    0.176</td> <td>    0.176</td>\n",
              "</tr>\n",
              "<tr>\n",
              "  <th>x26</th>   <td>    0.1946</td> <td> 3.44e-15</td> <td> 5.66e+13</td> <td> 0.000</td> <td>    0.195</td> <td>    0.195</td>\n",
              "</tr>\n",
              "<tr>\n",
              "  <th>x27</th>   <td>   -0.6063</td> <td> 4.03e-15</td> <td> -1.5e+14</td> <td> 0.000</td> <td>   -0.606</td> <td>   -0.606</td>\n",
              "</tr>\n",
              "<tr>\n",
              "  <th>x28</th>   <td>    0.2777</td> <td> 1.04e-14</td> <td> 2.66e+13</td> <td> 0.000</td> <td>    0.278</td> <td>    0.278</td>\n",
              "</tr>\n",
              "<tr>\n",
              "  <th>x29</th>   <td>    0.9694</td> <td> 5.94e-15</td> <td> 1.63e+14</td> <td> 0.000</td> <td>    0.969</td> <td>    0.969</td>\n",
              "</tr>\n",
              "<tr>\n",
              "  <th>x30</th>   <td>    0.3616</td> <td> 4.43e-15</td> <td> 8.16e+13</td> <td> 0.000</td> <td>    0.362</td> <td>    0.362</td>\n",
              "</tr>\n",
              "<tr>\n",
              "  <th>x31</th>   <td>    0.1345</td> <td> 2.42e-15</td> <td> 5.56e+13</td> <td> 0.000</td> <td>    0.134</td> <td>    0.134</td>\n",
              "</tr>\n",
              "<tr>\n",
              "  <th>x32</th>   <td>    0.0573</td> <td> 5.09e-15</td> <td> 1.13e+13</td> <td> 0.000</td> <td>    0.057</td> <td>    0.057</td>\n",
              "</tr>\n",
              "<tr>\n",
              "  <th>x33</th>   <td>   -0.3428</td> <td> 8.06e-15</td> <td>-4.25e+13</td> <td> 0.000</td> <td>   -0.343</td> <td>   -0.343</td>\n",
              "</tr>\n",
              "<tr>\n",
              "  <th>x34</th>   <td>   -0.5913</td> <td> 2.35e-15</td> <td>-2.52e+14</td> <td> 0.000</td> <td>   -0.591</td> <td>   -0.591</td>\n",
              "</tr>\n",
              "<tr>\n",
              "  <th>x35</th>   <td>   -0.1111</td> <td> 6.14e-15</td> <td>-1.81e+13</td> <td> 0.000</td> <td>   -0.111</td> <td>   -0.111</td>\n",
              "</tr>\n",
              "<tr>\n",
              "  <th>x36</th>   <td>   -0.4396</td> <td> 2.62e-15</td> <td>-1.68e+14</td> <td> 0.000</td> <td>   -0.440</td> <td>   -0.440</td>\n",
              "</tr>\n",
              "<tr>\n",
              "  <th>x37</th>   <td>   -0.8758</td> <td> 9.48e-15</td> <td>-9.23e+13</td> <td> 0.000</td> <td>   -0.876</td> <td>   -0.876</td>\n",
              "</tr>\n",
              "<tr>\n",
              "  <th>x38</th>   <td>    0.1170</td> <td> 3.55e-15</td> <td>  3.3e+13</td> <td> 0.000</td> <td>    0.117</td> <td>    0.117</td>\n",
              "</tr>\n",
              "<tr>\n",
              "  <th>x39</th>   <td>   -0.7900</td> <td> 7.32e-15</td> <td>-1.08e+14</td> <td> 0.000</td> <td>   -0.790</td> <td>   -0.790</td>\n",
              "</tr>\n",
              "<tr>\n",
              "  <th>x40</th>   <td>   -0.1619</td> <td> 2.56e-15</td> <td>-6.32e+13</td> <td> 0.000</td> <td>   -0.162</td> <td>   -0.162</td>\n",
              "</tr>\n",
              "<tr>\n",
              "  <th>x41</th>   <td>    1.0628</td> <td> 7.56e-15</td> <td> 1.41e+14</td> <td> 0.000</td> <td>    1.063</td> <td>    1.063</td>\n",
              "</tr>\n",
              "<tr>\n",
              "  <th>x42</th>   <td>    0.6305</td> <td> 6.83e-15</td> <td> 9.24e+13</td> <td> 0.000</td> <td>    0.631</td> <td>    0.631</td>\n",
              "</tr>\n",
              "<tr>\n",
              "  <th>x43</th>   <td>    0.8557</td> <td> 5.34e-15</td> <td>  1.6e+14</td> <td> 0.000</td> <td>    0.856</td> <td>    0.856</td>\n",
              "</tr>\n",
              "<tr>\n",
              "  <th>x44</th>   <td>   -0.0697</td> <td> 1.15e-14</td> <td>-6.07e+12</td> <td> 0.000</td> <td>   -0.070</td> <td>   -0.070</td>\n",
              "</tr>\n",
              "<tr>\n",
              "  <th>x45</th>   <td>   -0.1073</td> <td>  3.3e-15</td> <td>-3.25e+13</td> <td> 0.000</td> <td>   -0.107</td> <td>   -0.107</td>\n",
              "</tr>\n",
              "<tr>\n",
              "  <th>x46</th>   <td>    0.8775</td> <td>  1.4e-14</td> <td> 6.25e+13</td> <td> 0.000</td> <td>    0.877</td> <td>    0.877</td>\n",
              "</tr>\n",
              "<tr>\n",
              "  <th>x47</th>   <td>    0.6568</td> <td> 2.99e-15</td> <td> 2.19e+14</td> <td> 0.000</td> <td>    0.657</td> <td>    0.657</td>\n",
              "</tr>\n",
              "<tr>\n",
              "  <th>x48</th>   <td>   -0.4143</td> <td> 6.69e-15</td> <td>-6.19e+13</td> <td> 0.000</td> <td>   -0.414</td> <td>   -0.414</td>\n",
              "</tr>\n",
              "<tr>\n",
              "  <th>x49</th>   <td>   -0.1466</td> <td> 6.12e-15</td> <td> -2.4e+13</td> <td> 0.000</td> <td>   -0.147</td> <td>   -0.147</td>\n",
              "</tr>\n",
              "<tr>\n",
              "  <th>x50</th>   <td>   -0.5899</td> <td> 3.39e-15</td> <td>-1.74e+14</td> <td> 0.000</td> <td>   -0.590</td> <td>   -0.590</td>\n",
              "</tr>\n",
              "<tr>\n",
              "  <th>x51</th>   <td>    0.9739</td> <td> 7.28e-15</td> <td> 1.34e+14</td> <td> 0.000</td> <td>    0.974</td> <td>    0.974</td>\n",
              "</tr>\n",
              "<tr>\n",
              "  <th>x52</th>   <td>    0.1711</td> <td> 3.56e-15</td> <td> 4.81e+13</td> <td> 0.000</td> <td>    0.171</td> <td>    0.171</td>\n",
              "</tr>\n",
              "<tr>\n",
              "  <th>x53</th>   <td>   -0.1271</td> <td> 2.55e-15</td> <td>-4.98e+13</td> <td> 0.000</td> <td>   -0.127</td> <td>   -0.127</td>\n",
              "</tr>\n",
              "<tr>\n",
              "  <th>x54</th>   <td>    0.6123</td> <td> 2.56e-15</td> <td> 2.39e+14</td> <td> 0.000</td> <td>    0.612</td> <td>    0.612</td>\n",
              "</tr>\n",
              "<tr>\n",
              "  <th>x55</th>   <td>   -0.5709</td> <td> 3.74e-15</td> <td>-1.52e+14</td> <td> 0.000</td> <td>   -0.571</td> <td>   -0.571</td>\n",
              "</tr>\n",
              "<tr>\n",
              "  <th>x56</th>   <td>   -0.1554</td> <td> 8.37e-15</td> <td>-1.86e+13</td> <td> 0.000</td> <td>   -0.155</td> <td>   -0.155</td>\n",
              "</tr>\n",
              "<tr>\n",
              "  <th>x57</th>   <td>    0.5137</td> <td> 3.27e-15</td> <td> 1.57e+14</td> <td> 0.000</td> <td>    0.514</td> <td>    0.514</td>\n",
              "</tr>\n",
              "<tr>\n",
              "  <th>x58</th>   <td>    0.0477</td> <td> 2.78e-15</td> <td> 1.72e+13</td> <td> 0.000</td> <td>    0.048</td> <td>    0.048</td>\n",
              "</tr>\n",
              "<tr>\n",
              "  <th>x59</th>   <td>    0.1311</td> <td> 6.64e-15</td> <td> 1.97e+13</td> <td> 0.000</td> <td>    0.131</td> <td>    0.131</td>\n",
              "</tr>\n",
              "<tr>\n",
              "  <th>x60</th>   <td>   -0.3359</td> <td> 5.71e-15</td> <td>-5.88e+13</td> <td> 0.000</td> <td>   -0.336</td> <td>   -0.336</td>\n",
              "</tr>\n",
              "<tr>\n",
              "  <th>x61</th>   <td>   -0.0327</td> <td>  4.7e-15</td> <td>-6.95e+12</td> <td> 0.000</td> <td>   -0.033</td> <td>   -0.033</td>\n",
              "</tr>\n",
              "<tr>\n",
              "  <th>x62</th>   <td>    0.3831</td> <td> 3.64e-15</td> <td> 1.05e+14</td> <td> 0.000</td> <td>    0.383</td> <td>    0.383</td>\n",
              "</tr>\n",
              "<tr>\n",
              "  <th>x63</th>   <td>    0.1084</td> <td> 1.08e-14</td> <td>    1e+13</td> <td> 0.000</td> <td>    0.108</td> <td>    0.108</td>\n",
              "</tr>\n",
              "<tr>\n",
              "  <th>x64</th>   <td>    0.3661</td> <td> 6.55e-15</td> <td> 5.59e+13</td> <td> 0.000</td> <td>    0.366</td> <td>    0.366</td>\n",
              "</tr>\n",
              "<tr>\n",
              "  <th>x65</th>   <td>   -0.2919</td> <td> 1.34e-14</td> <td>-2.18e+13</td> <td> 0.000</td> <td>   -0.292</td> <td>   -0.292</td>\n",
              "</tr>\n",
              "<tr>\n",
              "  <th>x66</th>   <td>    0.2757</td> <td> 2.65e-15</td> <td> 1.04e+14</td> <td> 0.000</td> <td>    0.276</td> <td>    0.276</td>\n",
              "</tr>\n",
              "<tr>\n",
              "  <th>x67</th>   <td>    0.2586</td> <td>  5.5e-15</td> <td>  4.7e+13</td> <td> 0.000</td> <td>    0.259</td> <td>    0.259</td>\n",
              "</tr>\n",
              "<tr>\n",
              "  <th>x68</th>   <td>    0.2664</td> <td> 4.15e-15</td> <td> 6.43e+13</td> <td> 0.000</td> <td>    0.266</td> <td>    0.266</td>\n",
              "</tr>\n",
              "<tr>\n",
              "  <th>x69</th>   <td>    0.0569</td> <td> 4.86e-15</td> <td> 1.17e+13</td> <td> 0.000</td> <td>    0.057</td> <td>    0.057</td>\n",
              "</tr>\n",
              "<tr>\n",
              "  <th>x70</th>   <td>    0.6801</td> <td> 4.14e-15</td> <td> 1.64e+14</td> <td> 0.000</td> <td>    0.680</td> <td>    0.680</td>\n",
              "</tr>\n",
              "<tr>\n",
              "  <th>x71</th>   <td>   -0.3324</td> <td>  2.2e-15</td> <td>-1.51e+14</td> <td> 0.000</td> <td>   -0.332</td> <td>   -0.332</td>\n",
              "</tr>\n",
              "<tr>\n",
              "  <th>x72</th>   <td>    0.2298</td> <td> 6.17e-15</td> <td> 3.73e+13</td> <td> 0.000</td> <td>    0.230</td> <td>    0.230</td>\n",
              "</tr>\n",
              "<tr>\n",
              "  <th>x73</th>   <td>   -1.1001</td> <td> 1.21e-14</td> <td>-9.12e+13</td> <td> 0.000</td> <td>   -1.100</td> <td>   -1.100</td>\n",
              "</tr>\n",
              "<tr>\n",
              "  <th>x74</th>   <td>    0.0998</td> <td>  4.2e-15</td> <td> 2.38e+13</td> <td> 0.000</td> <td>    0.100</td> <td>    0.100</td>\n",
              "</tr>\n",
              "<tr>\n",
              "  <th>x75</th>   <td>   -0.8370</td> <td> 7.13e-15</td> <td>-1.17e+14</td> <td> 0.000</td> <td>   -0.837</td> <td>   -0.837</td>\n",
              "</tr>\n",
              "<tr>\n",
              "  <th>x76</th>   <td>   -0.0660</td> <td> 4.37e-15</td> <td>-1.51e+13</td> <td> 0.000</td> <td>   -0.066</td> <td>   -0.066</td>\n",
              "</tr>\n",
              "<tr>\n",
              "  <th>x77</th>   <td>   -0.3069</td> <td> 2.54e-15</td> <td>-1.21e+14</td> <td> 0.000</td> <td>   -0.307</td> <td>   -0.307</td>\n",
              "</tr>\n",
              "<tr>\n",
              "  <th>x78</th>   <td>   -0.1174</td> <td> 2.86e-15</td> <td>-4.11e+13</td> <td> 0.000</td> <td>   -0.117</td> <td>   -0.117</td>\n",
              "</tr>\n",
              "<tr>\n",
              "  <th>x79</th>   <td>   -0.4559</td> <td> 2.06e-15</td> <td>-2.22e+14</td> <td> 0.000</td> <td>   -0.456</td> <td>   -0.456</td>\n",
              "</tr>\n",
              "<tr>\n",
              "  <th>x80</th>   <td>   -0.2363</td> <td> 4.06e-15</td> <td>-5.82e+13</td> <td> 0.000</td> <td>   -0.236</td> <td>   -0.236</td>\n",
              "</tr>\n",
              "<tr>\n",
              "  <th>x81</th>   <td>   -0.3835</td> <td> 7.48e-15</td> <td>-5.13e+13</td> <td> 0.000</td> <td>   -0.383</td> <td>   -0.383</td>\n",
              "</tr>\n",
              "<tr>\n",
              "  <th>x82</th>   <td>    0.2645</td> <td> 1.76e-15</td> <td>  1.5e+14</td> <td> 0.000</td> <td>    0.264</td> <td>    0.264</td>\n",
              "</tr>\n",
              "<tr>\n",
              "  <th>x83</th>   <td>    0.1216</td> <td> 4.25e-15</td> <td> 2.86e+13</td> <td> 0.000</td> <td>    0.122</td> <td>    0.122</td>\n",
              "</tr>\n",
              "<tr>\n",
              "  <th>x84</th>   <td>   -0.0169</td> <td> 5.84e-15</td> <td> -2.9e+12</td> <td> 0.000</td> <td>   -0.017</td> <td>   -0.017</td>\n",
              "</tr>\n",
              "<tr>\n",
              "  <th>x85</th>   <td>    0.2785</td> <td>  1.9e-15</td> <td> 1.47e+14</td> <td> 0.000</td> <td>    0.278</td> <td>    0.278</td>\n",
              "</tr>\n",
              "<tr>\n",
              "  <th>x86</th>   <td>   -0.1519</td> <td> 4.99e-15</td> <td>-3.04e+13</td> <td> 0.000</td> <td>   -0.152</td> <td>   -0.152</td>\n",
              "</tr>\n",
              "<tr>\n",
              "  <th>x87</th>   <td>   -0.0838</td> <td> 1.63e-15</td> <td>-5.16e+13</td> <td> 0.000</td> <td>   -0.084</td> <td>   -0.084</td>\n",
              "</tr>\n",
              "<tr>\n",
              "  <th>x88</th>   <td>   -0.2342</td> <td> 2.96e-15</td> <td> -7.9e+13</td> <td> 0.000</td> <td>   -0.234</td> <td>   -0.234</td>\n",
              "</tr>\n",
              "<tr>\n",
              "  <th>x89</th>   <td>    0.0230</td> <td> 1.56e-15</td> <td> 1.48e+13</td> <td> 0.000</td> <td>    0.023</td> <td>    0.023</td>\n",
              "</tr>\n",
              "<tr>\n",
              "  <th>x90</th>   <td>   -0.1533</td> <td> 1.22e-15</td> <td>-1.25e+14</td> <td> 0.000</td> <td>   -0.153</td> <td>   -0.153</td>\n",
              "</tr>\n",
              "<tr>\n",
              "  <th>x91</th>   <td>   -0.3586</td> <td> 3.73e-15</td> <td>-9.62e+13</td> <td> 0.000</td> <td>   -0.359</td> <td>   -0.359</td>\n",
              "</tr>\n",
              "<tr>\n",
              "  <th>x92</th>   <td>    0.4235</td> <td>  1.4e-15</td> <td> 3.03e+14</td> <td> 0.000</td> <td>    0.424</td> <td>    0.424</td>\n",
              "</tr>\n",
              "<tr>\n",
              "  <th>x93</th>   <td>   -0.0405</td> <td> 2.14e-15</td> <td>-1.89e+13</td> <td> 0.000</td> <td>   -0.040</td> <td>   -0.040</td>\n",
              "</tr>\n",
              "<tr>\n",
              "  <th>x94</th>   <td>    0.1531</td> <td> 2.16e-15</td> <td> 7.08e+13</td> <td> 0.000</td> <td>    0.153</td> <td>    0.153</td>\n",
              "</tr>\n",
              "<tr>\n",
              "  <th>x95</th>   <td>   -0.3492</td> <td>  2.2e-15</td> <td>-1.59e+14</td> <td> 0.000</td> <td>   -0.349</td> <td>   -0.349</td>\n",
              "</tr>\n",
              "<tr>\n",
              "  <th>x96</th>   <td>    0.1002</td> <td> 4.36e-15</td> <td>  2.3e+13</td> <td> 0.000</td> <td>    0.100</td> <td>    0.100</td>\n",
              "</tr>\n",
              "<tr>\n",
              "  <th>x97</th>   <td>    0.2041</td> <td> 1.66e-15</td> <td> 1.23e+14</td> <td> 0.000</td> <td>    0.204</td> <td>    0.204</td>\n",
              "</tr>\n",
              "<tr>\n",
              "  <th>x98</th>   <td>   -0.0313</td> <td> 1.86e-15</td> <td>-1.68e+13</td> <td> 0.000</td> <td>   -0.031</td> <td>   -0.031</td>\n",
              "</tr>\n",
              "<tr>\n",
              "  <th>x99</th>   <td>   -0.2812</td> <td> 2.38e-15</td> <td>-1.18e+14</td> <td> 0.000</td> <td>   -0.281</td> <td>   -0.281</td>\n",
              "</tr>\n",
              "<tr>\n",
              "  <th>x100</th>  <td>   -0.1059</td> <td> 2.17e-15</td> <td>-4.89e+13</td> <td> 0.000</td> <td>   -0.106</td> <td>   -0.106</td>\n",
              "</tr>\n",
              "<tr>\n",
              "  <th>x101</th>  <td>    0.0314</td> <td> 2.42e-15</td> <td>  1.3e+13</td> <td> 0.000</td> <td>    0.031</td> <td>    0.031</td>\n",
              "</tr>\n",
              "<tr>\n",
              "  <th>x102</th>  <td>   -0.0712</td> <td> 5.45e-15</td> <td>-1.31e+13</td> <td> 0.000</td> <td>   -0.071</td> <td>   -0.071</td>\n",
              "</tr>\n",
              "<tr>\n",
              "  <th>x103</th>  <td>    0.1179</td> <td> 1.33e-15</td> <td> 8.89e+13</td> <td> 0.000</td> <td>    0.118</td> <td>    0.118</td>\n",
              "</tr>\n",
              "<tr>\n",
              "  <th>x104</th>  <td>   -0.0357</td> <td> 3.15e-15</td> <td>-1.13e+13</td> <td> 0.000</td> <td>   -0.036</td> <td>   -0.036</td>\n",
              "</tr>\n",
              "<tr>\n",
              "  <th>x105</th>  <td>   -0.2470</td> <td> 1.34e-15</td> <td>-1.85e+14</td> <td> 0.000</td> <td>   -0.247</td> <td>   -0.247</td>\n",
              "</tr>\n",
              "<tr>\n",
              "  <th>x106</th>  <td>   -0.0267</td> <td> 4.09e-15</td> <td>-6.51e+12</td> <td> 0.000</td> <td>   -0.027</td> <td>   -0.027</td>\n",
              "</tr>\n",
              "<tr>\n",
              "  <th>x107</th>  <td>    0.4214</td> <td> 2.49e-15</td> <td> 1.69e+14</td> <td> 0.000</td> <td>    0.421</td> <td>    0.421</td>\n",
              "</tr>\n",
              "<tr>\n",
              "  <th>x108</th>  <td>   -0.0107</td> <td> 2.01e-15</td> <td> -5.3e+12</td> <td> 0.000</td> <td>   -0.011</td> <td>   -0.011</td>\n",
              "</tr>\n",
              "<tr>\n",
              "  <th>x109</th>  <td>    0.1269</td> <td> 1.76e-15</td> <td>  7.2e+13</td> <td> 0.000</td> <td>    0.127</td> <td>    0.127</td>\n",
              "</tr>\n",
              "<tr>\n",
              "  <th>x110</th>  <td>    0.0646</td> <td> 3.75e-15</td> <td> 1.72e+13</td> <td> 0.000</td> <td>    0.065</td> <td>    0.065</td>\n",
              "</tr>\n",
              "<tr>\n",
              "  <th>x111</th>  <td>    0.1283</td> <td>  2.6e-15</td> <td> 4.94e+13</td> <td> 0.000</td> <td>    0.128</td> <td>    0.128</td>\n",
              "</tr>\n",
              "<tr>\n",
              "  <th>x112</th>  <td>    0.2231</td> <td> 4.57e-15</td> <td> 4.88e+13</td> <td> 0.000</td> <td>    0.223</td> <td>    0.223</td>\n",
              "</tr>\n",
              "<tr>\n",
              "  <th>x113</th>  <td>    0.0800</td> <td> 2.39e-15</td> <td> 3.35e+13</td> <td> 0.000</td> <td>    0.080</td> <td>    0.080</td>\n",
              "</tr>\n",
              "<tr>\n",
              "  <th>x114</th>  <td>    0.4161</td> <td> 5.29e-15</td> <td> 7.86e+13</td> <td> 0.000</td> <td>    0.416</td> <td>    0.416</td>\n",
              "</tr>\n",
              "<tr>\n",
              "  <th>x115</th>  <td>    0.2292</td> <td> 2.36e-15</td> <td> 9.71e+13</td> <td> 0.000</td> <td>    0.229</td> <td>    0.229</td>\n",
              "</tr>\n",
              "<tr>\n",
              "  <th>x116</th>  <td>   -0.1984</td> <td> 7.69e-15</td> <td>-2.58e+13</td> <td> 0.000</td> <td>   -0.198</td> <td>   -0.198</td>\n",
              "</tr>\n",
              "<tr>\n",
              "  <th>x117</th>  <td>    0.1835</td> <td>  5.4e-15</td> <td>  3.4e+13</td> <td> 0.000</td> <td>    0.183</td> <td>    0.183</td>\n",
              "</tr>\n",
              "<tr>\n",
              "  <th>x118</th>  <td>   -0.5805</td> <td> 2.22e-15</td> <td>-2.61e+14</td> <td> 0.000</td> <td>   -0.580</td> <td>   -0.580</td>\n",
              "</tr>\n",
              "<tr>\n",
              "  <th>x119</th>  <td>    0.4753</td> <td> 1.85e-15</td> <td> 2.57e+14</td> <td> 0.000</td> <td>    0.475</td> <td>    0.475</td>\n",
              "</tr>\n",
              "<tr>\n",
              "  <th>x120</th>  <td>    0.0178</td> <td>  1.3e-15</td> <td> 1.37e+13</td> <td> 0.000</td> <td>    0.018</td> <td>    0.018</td>\n",
              "</tr>\n",
              "<tr>\n",
              "  <th>x121</th>  <td>   -0.3929</td> <td> 1.34e-15</td> <td>-2.93e+14</td> <td> 0.000</td> <td>   -0.393</td> <td>   -0.393</td>\n",
              "</tr>\n",
              "<tr>\n",
              "  <th>x122</th>  <td>    0.1167</td> <td> 1.91e-15</td> <td>  6.1e+13</td> <td> 0.000</td> <td>    0.117</td> <td>    0.117</td>\n",
              "</tr>\n",
              "<tr>\n",
              "  <th>x123</th>  <td>    0.0962</td> <td> 3.13e-15</td> <td> 3.08e+13</td> <td> 0.000</td> <td>    0.096</td> <td>    0.096</td>\n",
              "</tr>\n",
              "<tr>\n",
              "  <th>x124</th>  <td>   -0.0009</td> <td> 1.77e-15</td> <td>-5.06e+11</td> <td> 0.000</td> <td>   -0.001</td> <td>   -0.001</td>\n",
              "</tr>\n",
              "<tr>\n",
              "  <th>x125</th>  <td>   -0.2033</td> <td> 2.92e-15</td> <td>-6.97e+13</td> <td> 0.000</td> <td>   -0.203</td> <td>   -0.203</td>\n",
              "</tr>\n",
              "<tr>\n",
              "  <th>x126</th>  <td>   -0.1058</td> <td> 2.34e-15</td> <td>-4.53e+13</td> <td> 0.000</td> <td>   -0.106</td> <td>   -0.106</td>\n",
              "</tr>\n",
              "<tr>\n",
              "  <th>x127</th>  <td>    0.0441</td> <td> 3.21e-15</td> <td> 1.38e+13</td> <td> 0.000</td> <td>    0.044</td> <td>    0.044</td>\n",
              "</tr>\n",
              "<tr>\n",
              "  <th>x128</th>  <td>   -0.1252</td> <td> 2.43e-15</td> <td>-5.16e+13</td> <td> 0.000</td> <td>   -0.125</td> <td>   -0.125</td>\n",
              "</tr>\n",
              "<tr>\n",
              "  <th>x129</th>  <td>   -0.1916</td> <td> 1.93e-15</td> <td>-9.95e+13</td> <td> 0.000</td> <td>   -0.192</td> <td>   -0.192</td>\n",
              "</tr>\n",
              "<tr>\n",
              "  <th>x130</th>  <td>    0.0399</td> <td> 4.93e-15</td> <td> 8.09e+12</td> <td> 0.000</td> <td>    0.040</td> <td>    0.040</td>\n",
              "</tr>\n",
              "<tr>\n",
              "  <th>x131</th>  <td>   -0.2893</td> <td> 2.75e-15</td> <td>-1.05e+14</td> <td> 0.000</td> <td>   -0.289</td> <td>   -0.289</td>\n",
              "</tr>\n",
              "<tr>\n",
              "  <th>x132</th>  <td>    0.0858</td> <td> 3.23e-15</td> <td> 2.66e+13</td> <td> 0.000</td> <td>    0.086</td> <td>    0.086</td>\n",
              "</tr>\n",
              "<tr>\n",
              "  <th>x133</th>  <td>    0.5013</td> <td> 3.94e-15</td> <td> 1.27e+14</td> <td> 0.000</td> <td>    0.501</td> <td>    0.501</td>\n",
              "</tr>\n",
              "<tr>\n",
              "  <th>x134</th>  <td>    0.1942</td> <td> 2.21e-15</td> <td>  8.8e+13</td> <td> 0.000</td> <td>    0.194</td> <td>    0.194</td>\n",
              "</tr>\n",
              "<tr>\n",
              "  <th>x135</th>  <td>    0.1011</td> <td> 2.73e-15</td> <td>  3.7e+13</td> <td> 0.000</td> <td>    0.101</td> <td>    0.101</td>\n",
              "</tr>\n",
              "<tr>\n",
              "  <th>x136</th>  <td>    0.0749</td> <td>  2.3e-15</td> <td> 3.26e+13</td> <td> 0.000</td> <td>    0.075</td> <td>    0.075</td>\n",
              "</tr>\n",
              "<tr>\n",
              "  <th>x137</th>  <td>   -0.0821</td> <td> 2.68e-15</td> <td>-3.06e+13</td> <td> 0.000</td> <td>   -0.082</td> <td>   -0.082</td>\n",
              "</tr>\n",
              "<tr>\n",
              "  <th>x138</th>  <td>    0.1721</td> <td>    3e-15</td> <td> 5.73e+13</td> <td> 0.000</td> <td>    0.172</td> <td>    0.172</td>\n",
              "</tr>\n",
              "<tr>\n",
              "  <th>x139</th>  <td>   -0.1103</td> <td> 4.61e-15</td> <td>-2.39e+13</td> <td> 0.000</td> <td>   -0.110</td> <td>   -0.110</td>\n",
              "</tr>\n",
              "<tr>\n",
              "  <th>x140</th>  <td>    0.2415</td> <td>  2.8e-15</td> <td> 8.63e+13</td> <td> 0.000</td> <td>    0.242</td> <td>    0.242</td>\n",
              "</tr>\n",
              "<tr>\n",
              "  <th>x141</th>  <td>   -0.0749</td> <td> 1.45e-15</td> <td>-5.15e+13</td> <td> 0.000</td> <td>   -0.075</td> <td>   -0.075</td>\n",
              "</tr>\n",
              "<tr>\n",
              "  <th>x142</th>  <td>    0.0187</td> <td> 3.68e-15</td> <td>  5.1e+12</td> <td> 0.000</td> <td>    0.019</td> <td>    0.019</td>\n",
              "</tr>\n",
              "<tr>\n",
              "  <th>x143</th>  <td>   -0.3350</td> <td> 4.79e-15</td> <td>-6.99e+13</td> <td> 0.000</td> <td>   -0.335</td> <td>   -0.335</td>\n",
              "</tr>\n",
              "<tr>\n",
              "  <th>x144</th>  <td>    0.1320</td> <td> 2.14e-15</td> <td> 6.17e+13</td> <td> 0.000</td> <td>    0.132</td> <td>    0.132</td>\n",
              "</tr>\n",
              "<tr>\n",
              "  <th>x145</th>  <td>    0.5368</td> <td> 3.76e-15</td> <td> 1.43e+14</td> <td> 0.000</td> <td>    0.537</td> <td>    0.537</td>\n",
              "</tr>\n",
              "<tr>\n",
              "  <th>x146</th>  <td>   -0.2561</td> <td> 1.92e-15</td> <td>-1.33e+14</td> <td> 0.000</td> <td>   -0.256</td> <td>   -0.256</td>\n",
              "</tr>\n",
              "<tr>\n",
              "  <th>x147</th>  <td>    0.0150</td> <td> 2.99e-15</td> <td> 5.01e+12</td> <td> 0.000</td> <td>    0.015</td> <td>    0.015</td>\n",
              "</tr>\n",
              "<tr>\n",
              "  <th>x148</th>  <td>   -0.2288</td> <td> 2.64e-15</td> <td>-8.67e+13</td> <td> 0.000</td> <td>   -0.229</td> <td>   -0.229</td>\n",
              "</tr>\n",
              "<tr>\n",
              "  <th>x149</th>  <td>    0.0539</td> <td> 3.45e-15</td> <td> 1.56e+13</td> <td> 0.000</td> <td>    0.054</td> <td>    0.054</td>\n",
              "</tr>\n",
              "<tr>\n",
              "  <th>x150</th>  <td>   -0.0303</td> <td> 1.62e-15</td> <td>-1.87e+13</td> <td> 0.000</td> <td>   -0.030</td> <td>   -0.030</td>\n",
              "</tr>\n",
              "<tr>\n",
              "  <th>x151</th>  <td>   -0.0187</td> <td> 2.99e-15</td> <td>-6.23e+12</td> <td> 0.000</td> <td>   -0.019</td> <td>   -0.019</td>\n",
              "</tr>\n",
              "<tr>\n",
              "  <th>x152</th>  <td>   -0.1263</td> <td> 2.04e-15</td> <td>-6.18e+13</td> <td> 0.000</td> <td>   -0.126</td> <td>   -0.126</td>\n",
              "</tr>\n",
              "<tr>\n",
              "  <th>x153</th>  <td>    0.1038</td> <td> 1.92e-15</td> <td> 5.42e+13</td> <td> 0.000</td> <td>    0.104</td> <td>    0.104</td>\n",
              "</tr>\n",
              "<tr>\n",
              "  <th>x154</th>  <td>   -0.0475</td> <td>  1.4e-15</td> <td>-3.38e+13</td> <td> 0.000</td> <td>   -0.047</td> <td>   -0.047</td>\n",
              "</tr>\n",
              "<tr>\n",
              "  <th>x155</th>  <td>    0.2962</td> <td> 4.08e-15</td> <td> 7.25e+13</td> <td> 0.000</td> <td>    0.296</td> <td>    0.296</td>\n",
              "</tr>\n",
              "<tr>\n",
              "  <th>x156</th>  <td>    0.0352</td> <td> 1.82e-15</td> <td> 1.93e+13</td> <td> 0.000</td> <td>    0.035</td> <td>    0.035</td>\n",
              "</tr>\n",
              "<tr>\n",
              "  <th>x157</th>  <td>   -0.4051</td> <td> 1.47e-15</td> <td>-2.76e+14</td> <td> 0.000</td> <td>   -0.405</td> <td>   -0.405</td>\n",
              "</tr>\n",
              "<tr>\n",
              "  <th>x158</th>  <td>    0.0170</td> <td> 1.18e-15</td> <td> 1.45e+13</td> <td> 0.000</td> <td>    0.017</td> <td>    0.017</td>\n",
              "</tr>\n",
              "<tr>\n",
              "  <th>x159</th>  <td>    0.2516</td> <td> 3.05e-15</td> <td> 8.25e+13</td> <td> 0.000</td> <td>    0.252</td> <td>    0.252</td>\n",
              "</tr>\n",
              "<tr>\n",
              "  <th>x160</th>  <td>   -0.1893</td> <td> 2.71e-15</td> <td>-6.98e+13</td> <td> 0.000</td> <td>   -0.189</td> <td>   -0.189</td>\n",
              "</tr>\n",
              "<tr>\n",
              "  <th>x161</th>  <td>    0.3152</td> <td> 5.23e-15</td> <td> 6.03e+13</td> <td> 0.000</td> <td>    0.315</td> <td>    0.315</td>\n",
              "</tr>\n",
              "</table>"
            ],
            "text/latex": "\\begin{center}\n\\begin{tabular}{lcccccc}\n\\toprule\n               & \\textbf{coef} & \\textbf{std err} & \\textbf{z} & \\textbf{P$> |$z$|$} & \\textbf{[0.025} & \\textbf{0.975]}  \\\\\n\\midrule\n\\textbf{const} &       0.3128  &     2.58e-15     &  1.21e+14  &         0.000        &        0.313    &        0.313     \\\\\n\\textbf{x1}    &       0.0398  &     3.35e-15     &  1.19e+13  &         0.000        &        0.040    &        0.040     \\\\\n\\textbf{x2}    &      -0.9660  &      5.2e-15     & -1.86e+14  &         0.000        &       -0.966    &       -0.966     \\\\\n\\textbf{x3}    &       0.6915  &     4.09e-15     &  1.69e+14  &         0.000        &        0.691    &        0.691     \\\\\n\\textbf{x4}    &      -0.6126  &     9.84e-15     & -6.23e+13  &         0.000        &       -0.613    &       -0.613     \\\\\n\\textbf{x5}    &      -0.1043  &     4.78e-15     & -2.18e+13  &         0.000        &       -0.104    &       -0.104     \\\\\n\\textbf{x6}    &       0.1444  &        7e-15     &  2.06e+13  &         0.000        &        0.144    &        0.144     \\\\\n\\textbf{x7}    &      -0.1513  &     9.07e-15     & -1.67e+13  &         0.000        &       -0.151    &       -0.151     \\\\\n\\textbf{x8}    &       0.2437  &     3.76e-15     &  6.49e+13  &         0.000        &        0.244    &        0.244     \\\\\n\\textbf{x9}    &      -0.2266  &     3.86e-15     & -5.87e+13  &         0.000        &       -0.227    &       -0.227     \\\\\n\\textbf{x10}   &       1.3168  &     6.79e-15     &  1.94e+14  &         0.000        &        1.317    &        1.317     \\\\\n\\textbf{x11}   &      -0.1948  &     1.05e-14     & -1.85e+13  &         0.000        &       -0.195    &       -0.195     \\\\\n\\textbf{x12}   &       0.5611  &     7.91e-15     &   7.1e+13  &         0.000        &        0.561    &        0.561     \\\\\n\\textbf{x13}   &       0.3243  &     5.13e-15     &  6.32e+13  &         0.000        &        0.324    &        0.324     \\\\\n\\textbf{x14}   &      -0.5151  &     3.09e-15     & -1.67e+14  &         0.000        &       -0.515    &       -0.515     \\\\\n\\textbf{x15}   &       0.6711  &     5.79e-15     &  1.16e+14  &         0.000        &        0.671    &        0.671     \\\\\n\\textbf{x16}   &      -0.1923  &      7.4e-15     &  -2.6e+13  &         0.000        &       -0.192    &       -0.192     \\\\\n\\textbf{x17}   &       0.2537  &      5.1e-15     &  4.98e+13  &         0.000        &        0.254    &        0.254     \\\\\n\\textbf{x18}   &       0.3243  &     9.54e-15     &   3.4e+13  &         0.000        &        0.324    &        0.324     \\\\\n\\textbf{x19}   &       0.9780  &     1.42e-14     &  6.91e+13  &         0.000        &        0.978    &        0.978     \\\\\n\\textbf{x20}   &       0.1809  &     2.27e-15     &  7.98e+13  &         0.000        &        0.181    &        0.181     \\\\\n\\textbf{x21}   &      -0.4563  &     4.96e-15     & -9.19e+13  &         0.000        &       -0.456    &       -0.456     \\\\\n\\textbf{x22}   &      -1.0318  &     9.72e-15     & -1.06e+14  &         0.000        &       -1.032    &       -1.032     \\\\\n\\textbf{x23}   &      -1.2797  &     5.36e-15     & -2.39e+14  &         0.000        &       -1.280    &       -1.280     \\\\\n\\textbf{x24}   &       0.3182  &     5.64e-15     &  5.64e+13  &         0.000        &        0.318    &        0.318     \\\\\n\\textbf{x25}   &       0.1758  &     8.61e-15     &  2.04e+13  &         0.000        &        0.176    &        0.176     \\\\\n\\textbf{x26}   &       0.1946  &     3.44e-15     &  5.66e+13  &         0.000        &        0.195    &        0.195     \\\\\n\\textbf{x27}   &      -0.6063  &     4.03e-15     &  -1.5e+14  &         0.000        &       -0.606    &       -0.606     \\\\\n\\textbf{x28}   &       0.2777  &     1.04e-14     &  2.66e+13  &         0.000        &        0.278    &        0.278     \\\\\n\\textbf{x29}   &       0.9694  &     5.94e-15     &  1.63e+14  &         0.000        &        0.969    &        0.969     \\\\\n\\textbf{x30}   &       0.3616  &     4.43e-15     &  8.16e+13  &         0.000        &        0.362    &        0.362     \\\\\n\\textbf{x31}   &       0.1345  &     2.42e-15     &  5.56e+13  &         0.000        &        0.134    &        0.134     \\\\\n\\textbf{x32}   &       0.0573  &     5.09e-15     &  1.13e+13  &         0.000        &        0.057    &        0.057     \\\\\n\\textbf{x33}   &      -0.3428  &     8.06e-15     & -4.25e+13  &         0.000        &       -0.343    &       -0.343     \\\\\n\\textbf{x34}   &      -0.5913  &     2.35e-15     & -2.52e+14  &         0.000        &       -0.591    &       -0.591     \\\\\n\\textbf{x35}   &      -0.1111  &     6.14e-15     & -1.81e+13  &         0.000        &       -0.111    &       -0.111     \\\\\n\\textbf{x36}   &      -0.4396  &     2.62e-15     & -1.68e+14  &         0.000        &       -0.440    &       -0.440     \\\\\n\\textbf{x37}   &      -0.8758  &     9.48e-15     & -9.23e+13  &         0.000        &       -0.876    &       -0.876     \\\\\n\\textbf{x38}   &       0.1170  &     3.55e-15     &   3.3e+13  &         0.000        &        0.117    &        0.117     \\\\\n\\textbf{x39}   &      -0.7900  &     7.32e-15     & -1.08e+14  &         0.000        &       -0.790    &       -0.790     \\\\\n\\textbf{x40}   &      -0.1619  &     2.56e-15     & -6.32e+13  &         0.000        &       -0.162    &       -0.162     \\\\\n\\textbf{x41}   &       1.0628  &     7.56e-15     &  1.41e+14  &         0.000        &        1.063    &        1.063     \\\\\n\\textbf{x42}   &       0.6305  &     6.83e-15     &  9.24e+13  &         0.000        &        0.631    &        0.631     \\\\\n\\textbf{x43}   &       0.8557  &     5.34e-15     &   1.6e+14  &         0.000        &        0.856    &        0.856     \\\\\n\\textbf{x44}   &      -0.0697  &     1.15e-14     & -6.07e+12  &         0.000        &       -0.070    &       -0.070     \\\\\n\\textbf{x45}   &      -0.1073  &      3.3e-15     & -3.25e+13  &         0.000        &       -0.107    &       -0.107     \\\\\n\\textbf{x46}   &       0.8775  &      1.4e-14     &  6.25e+13  &         0.000        &        0.877    &        0.877     \\\\\n\\textbf{x47}   &       0.6568  &     2.99e-15     &  2.19e+14  &         0.000        &        0.657    &        0.657     \\\\\n\\textbf{x48}   &      -0.4143  &     6.69e-15     & -6.19e+13  &         0.000        &       -0.414    &       -0.414     \\\\\n\\textbf{x49}   &      -0.1466  &     6.12e-15     &  -2.4e+13  &         0.000        &       -0.147    &       -0.147     \\\\\n\\textbf{x50}   &      -0.5899  &     3.39e-15     & -1.74e+14  &         0.000        &       -0.590    &       -0.590     \\\\\n\\textbf{x51}   &       0.9739  &     7.28e-15     &  1.34e+14  &         0.000        &        0.974    &        0.974     \\\\\n\\textbf{x52}   &       0.1711  &     3.56e-15     &  4.81e+13  &         0.000        &        0.171    &        0.171     \\\\\n\\textbf{x53}   &      -0.1271  &     2.55e-15     & -4.98e+13  &         0.000        &       -0.127    &       -0.127     \\\\\n\\textbf{x54}   &       0.6123  &     2.56e-15     &  2.39e+14  &         0.000        &        0.612    &        0.612     \\\\\n\\textbf{x55}   &      -0.5709  &     3.74e-15     & -1.52e+14  &         0.000        &       -0.571    &       -0.571     \\\\\n\\textbf{x56}   &      -0.1554  &     8.37e-15     & -1.86e+13  &         0.000        &       -0.155    &       -0.155     \\\\\n\\textbf{x57}   &       0.5137  &     3.27e-15     &  1.57e+14  &         0.000        &        0.514    &        0.514     \\\\\n\\textbf{x58}   &       0.0477  &     2.78e-15     &  1.72e+13  &         0.000        &        0.048    &        0.048     \\\\\n\\textbf{x59}   &       0.1311  &     6.64e-15     &  1.97e+13  &         0.000        &        0.131    &        0.131     \\\\\n\\textbf{x60}   &      -0.3359  &     5.71e-15     & -5.88e+13  &         0.000        &       -0.336    &       -0.336     \\\\\n\\textbf{x61}   &      -0.0327  &      4.7e-15     & -6.95e+12  &         0.000        &       -0.033    &       -0.033     \\\\\n\\textbf{x62}   &       0.3831  &     3.64e-15     &  1.05e+14  &         0.000        &        0.383    &        0.383     \\\\\n\\textbf{x63}   &       0.1084  &     1.08e-14     &     1e+13  &         0.000        &        0.108    &        0.108     \\\\\n\\textbf{x64}   &       0.3661  &     6.55e-15     &  5.59e+13  &         0.000        &        0.366    &        0.366     \\\\\n\\textbf{x65}   &      -0.2919  &     1.34e-14     & -2.18e+13  &         0.000        &       -0.292    &       -0.292     \\\\\n\\textbf{x66}   &       0.2757  &     2.65e-15     &  1.04e+14  &         0.000        &        0.276    &        0.276     \\\\\n\\textbf{x67}   &       0.2586  &      5.5e-15     &   4.7e+13  &         0.000        &        0.259    &        0.259     \\\\\n\\textbf{x68}   &       0.2664  &     4.15e-15     &  6.43e+13  &         0.000        &        0.266    &        0.266     \\\\\n\\textbf{x69}   &       0.0569  &     4.86e-15     &  1.17e+13  &         0.000        &        0.057    &        0.057     \\\\\n\\textbf{x70}   &       0.6801  &     4.14e-15     &  1.64e+14  &         0.000        &        0.680    &        0.680     \\\\\n\\textbf{x71}   &      -0.3324  &      2.2e-15     & -1.51e+14  &         0.000        &       -0.332    &       -0.332     \\\\\n\\textbf{x72}   &       0.2298  &     6.17e-15     &  3.73e+13  &         0.000        &        0.230    &        0.230     \\\\\n\\textbf{x73}   &      -1.1001  &     1.21e-14     & -9.12e+13  &         0.000        &       -1.100    &       -1.100     \\\\\n\\textbf{x74}   &       0.0998  &      4.2e-15     &  2.38e+13  &         0.000        &        0.100    &        0.100     \\\\\n\\textbf{x75}   &      -0.8370  &     7.13e-15     & -1.17e+14  &         0.000        &       -0.837    &       -0.837     \\\\\n\\textbf{x76}   &      -0.0660  &     4.37e-15     & -1.51e+13  &         0.000        &       -0.066    &       -0.066     \\\\\n\\textbf{x77}   &      -0.3069  &     2.54e-15     & -1.21e+14  &         0.000        &       -0.307    &       -0.307     \\\\\n\\textbf{x78}   &      -0.1174  &     2.86e-15     & -4.11e+13  &         0.000        &       -0.117    &       -0.117     \\\\\n\\textbf{x79}   &      -0.4559  &     2.06e-15     & -2.22e+14  &         0.000        &       -0.456    &       -0.456     \\\\\n\\textbf{x80}   &      -0.2363  &     4.06e-15     & -5.82e+13  &         0.000        &       -0.236    &       -0.236     \\\\\n\\textbf{x81}   &      -0.3835  &     7.48e-15     & -5.13e+13  &         0.000        &       -0.383    &       -0.383     \\\\\n\\textbf{x82}   &       0.2645  &     1.76e-15     &   1.5e+14  &         0.000        &        0.264    &        0.264     \\\\\n\\textbf{x83}   &       0.1216  &     4.25e-15     &  2.86e+13  &         0.000        &        0.122    &        0.122     \\\\\n\\textbf{x84}   &      -0.0169  &     5.84e-15     &  -2.9e+12  &         0.000        &       -0.017    &       -0.017     \\\\\n\\textbf{x85}   &       0.2785  &      1.9e-15     &  1.47e+14  &         0.000        &        0.278    &        0.278     \\\\\n\\textbf{x86}   &      -0.1519  &     4.99e-15     & -3.04e+13  &         0.000        &       -0.152    &       -0.152     \\\\\n\\textbf{x87}   &      -0.0838  &     1.63e-15     & -5.16e+13  &         0.000        &       -0.084    &       -0.084     \\\\\n\\textbf{x88}   &      -0.2342  &     2.96e-15     &  -7.9e+13  &         0.000        &       -0.234    &       -0.234     \\\\\n\\textbf{x89}   &       0.0230  &     1.56e-15     &  1.48e+13  &         0.000        &        0.023    &        0.023     \\\\\n\\textbf{x90}   &      -0.1533  &     1.22e-15     & -1.25e+14  &         0.000        &       -0.153    &       -0.153     \\\\\n\\textbf{x91}   &      -0.3586  &     3.73e-15     & -9.62e+13  &         0.000        &       -0.359    &       -0.359     \\\\\n\\textbf{x92}   &       0.4235  &      1.4e-15     &  3.03e+14  &         0.000        &        0.424    &        0.424     \\\\\n\\textbf{x93}   &      -0.0405  &     2.14e-15     & -1.89e+13  &         0.000        &       -0.040    &       -0.040     \\\\\n\\textbf{x94}   &       0.1531  &     2.16e-15     &  7.08e+13  &         0.000        &        0.153    &        0.153     \\\\\n\\textbf{x95}   &      -0.3492  &      2.2e-15     & -1.59e+14  &         0.000        &       -0.349    &       -0.349     \\\\\n\\textbf{x96}   &       0.1002  &     4.36e-15     &   2.3e+13  &         0.000        &        0.100    &        0.100     \\\\\n\\textbf{x97}   &       0.2041  &     1.66e-15     &  1.23e+14  &         0.000        &        0.204    &        0.204     \\\\\n\\textbf{x98}   &      -0.0313  &     1.86e-15     & -1.68e+13  &         0.000        &       -0.031    &       -0.031     \\\\\n\\textbf{x99}   &      -0.2812  &     2.38e-15     & -1.18e+14  &         0.000        &       -0.281    &       -0.281     \\\\\n\\textbf{x100}  &      -0.1059  &     2.17e-15     & -4.89e+13  &         0.000        &       -0.106    &       -0.106     \\\\\n\\textbf{x101}  &       0.0314  &     2.42e-15     &   1.3e+13  &         0.000        &        0.031    &        0.031     \\\\\n\\textbf{x102}  &      -0.0712  &     5.45e-15     & -1.31e+13  &         0.000        &       -0.071    &       -0.071     \\\\\n\\textbf{x103}  &       0.1179  &     1.33e-15     &  8.89e+13  &         0.000        &        0.118    &        0.118     \\\\\n\\textbf{x104}  &      -0.0357  &     3.15e-15     & -1.13e+13  &         0.000        &       -0.036    &       -0.036     \\\\\n\\textbf{x105}  &      -0.2470  &     1.34e-15     & -1.85e+14  &         0.000        &       -0.247    &       -0.247     \\\\\n\\textbf{x106}  &      -0.0267  &     4.09e-15     & -6.51e+12  &         0.000        &       -0.027    &       -0.027     \\\\\n\\textbf{x107}  &       0.4214  &     2.49e-15     &  1.69e+14  &         0.000        &        0.421    &        0.421     \\\\\n\\textbf{x108}  &      -0.0107  &     2.01e-15     &  -5.3e+12  &         0.000        &       -0.011    &       -0.011     \\\\\n\\textbf{x109}  &       0.1269  &     1.76e-15     &   7.2e+13  &         0.000        &        0.127    &        0.127     \\\\\n\\textbf{x110}  &       0.0646  &     3.75e-15     &  1.72e+13  &         0.000        &        0.065    &        0.065     \\\\\n\\textbf{x111}  &       0.1283  &      2.6e-15     &  4.94e+13  &         0.000        &        0.128    &        0.128     \\\\\n\\textbf{x112}  &       0.2231  &     4.57e-15     &  4.88e+13  &         0.000        &        0.223    &        0.223     \\\\\n\\textbf{x113}  &       0.0800  &     2.39e-15     &  3.35e+13  &         0.000        &        0.080    &        0.080     \\\\\n\\textbf{x114}  &       0.4161  &     5.29e-15     &  7.86e+13  &         0.000        &        0.416    &        0.416     \\\\\n\\textbf{x115}  &       0.2292  &     2.36e-15     &  9.71e+13  &         0.000        &        0.229    &        0.229     \\\\\n\\textbf{x116}  &      -0.1984  &     7.69e-15     & -2.58e+13  &         0.000        &       -0.198    &       -0.198     \\\\\n\\textbf{x117}  &       0.1835  &      5.4e-15     &   3.4e+13  &         0.000        &        0.183    &        0.183     \\\\\n\\textbf{x118}  &      -0.5805  &     2.22e-15     & -2.61e+14  &         0.000        &       -0.580    &       -0.580     \\\\\n\\textbf{x119}  &       0.4753  &     1.85e-15     &  2.57e+14  &         0.000        &        0.475    &        0.475     \\\\\n\\textbf{x120}  &       0.0178  &      1.3e-15     &  1.37e+13  &         0.000        &        0.018    &        0.018     \\\\\n\\textbf{x121}  &      -0.3929  &     1.34e-15     & -2.93e+14  &         0.000        &       -0.393    &       -0.393     \\\\\n\\textbf{x122}  &       0.1167  &     1.91e-15     &   6.1e+13  &         0.000        &        0.117    &        0.117     \\\\\n\\textbf{x123}  &       0.0962  &     3.13e-15     &  3.08e+13  &         0.000        &        0.096    &        0.096     \\\\\n\\textbf{x124}  &      -0.0009  &     1.77e-15     & -5.06e+11  &         0.000        &       -0.001    &       -0.001     \\\\\n\\textbf{x125}  &      -0.2033  &     2.92e-15     & -6.97e+13  &         0.000        &       -0.203    &       -0.203     \\\\\n\\textbf{x126}  &      -0.1058  &     2.34e-15     & -4.53e+13  &         0.000        &       -0.106    &       -0.106     \\\\\n\\textbf{x127}  &       0.0441  &     3.21e-15     &  1.38e+13  &         0.000        &        0.044    &        0.044     \\\\\n\\textbf{x128}  &      -0.1252  &     2.43e-15     & -5.16e+13  &         0.000        &       -0.125    &       -0.125     \\\\\n\\textbf{x129}  &      -0.1916  &     1.93e-15     & -9.95e+13  &         0.000        &       -0.192    &       -0.192     \\\\\n\\textbf{x130}  &       0.0399  &     4.93e-15     &  8.09e+12  &         0.000        &        0.040    &        0.040     \\\\\n\\textbf{x131}  &      -0.2893  &     2.75e-15     & -1.05e+14  &         0.000        &       -0.289    &       -0.289     \\\\\n\\textbf{x132}  &       0.0858  &     3.23e-15     &  2.66e+13  &         0.000        &        0.086    &        0.086     \\\\\n\\textbf{x133}  &       0.5013  &     3.94e-15     &  1.27e+14  &         0.000        &        0.501    &        0.501     \\\\\n\\textbf{x134}  &       0.1942  &     2.21e-15     &   8.8e+13  &         0.000        &        0.194    &        0.194     \\\\\n\\textbf{x135}  &       0.1011  &     2.73e-15     &   3.7e+13  &         0.000        &        0.101    &        0.101     \\\\\n\\textbf{x136}  &       0.0749  &      2.3e-15     &  3.26e+13  &         0.000        &        0.075    &        0.075     \\\\\n\\textbf{x137}  &      -0.0821  &     2.68e-15     & -3.06e+13  &         0.000        &       -0.082    &       -0.082     \\\\\n\\textbf{x138}  &       0.1721  &        3e-15     &  5.73e+13  &         0.000        &        0.172    &        0.172     \\\\\n\\textbf{x139}  &      -0.1103  &     4.61e-15     & -2.39e+13  &         0.000        &       -0.110    &       -0.110     \\\\\n\\textbf{x140}  &       0.2415  &      2.8e-15     &  8.63e+13  &         0.000        &        0.242    &        0.242     \\\\\n\\textbf{x141}  &      -0.0749  &     1.45e-15     & -5.15e+13  &         0.000        &       -0.075    &       -0.075     \\\\\n\\textbf{x142}  &       0.0187  &     3.68e-15     &   5.1e+12  &         0.000        &        0.019    &        0.019     \\\\\n\\textbf{x143}  &      -0.3350  &     4.79e-15     & -6.99e+13  &         0.000        &       -0.335    &       -0.335     \\\\\n\\textbf{x144}  &       0.1320  &     2.14e-15     &  6.17e+13  &         0.000        &        0.132    &        0.132     \\\\\n\\textbf{x145}  &       0.5368  &     3.76e-15     &  1.43e+14  &         0.000        &        0.537    &        0.537     \\\\\n\\textbf{x146}  &      -0.2561  &     1.92e-15     & -1.33e+14  &         0.000        &       -0.256    &       -0.256     \\\\\n\\textbf{x147}  &       0.0150  &     2.99e-15     &  5.01e+12  &         0.000        &        0.015    &        0.015     \\\\\n\\textbf{x148}  &      -0.2288  &     2.64e-15     & -8.67e+13  &         0.000        &       -0.229    &       -0.229     \\\\\n\\textbf{x149}  &       0.0539  &     3.45e-15     &  1.56e+13  &         0.000        &        0.054    &        0.054     \\\\\n\\textbf{x150}  &      -0.0303  &     1.62e-15     & -1.87e+13  &         0.000        &       -0.030    &       -0.030     \\\\\n\\textbf{x151}  &      -0.0187  &     2.99e-15     & -6.23e+12  &         0.000        &       -0.019    &       -0.019     \\\\\n\\textbf{x152}  &      -0.1263  &     2.04e-15     & -6.18e+13  &         0.000        &       -0.126    &       -0.126     \\\\\n\\textbf{x153}  &       0.1038  &     1.92e-15     &  5.42e+13  &         0.000        &        0.104    &        0.104     \\\\\n\\textbf{x154}  &      -0.0475  &      1.4e-15     & -3.38e+13  &         0.000        &       -0.047    &       -0.047     \\\\\n\\textbf{x155}  &       0.2962  &     4.08e-15     &  7.25e+13  &         0.000        &        0.296    &        0.296     \\\\\n\\textbf{x156}  &       0.0352  &     1.82e-15     &  1.93e+13  &         0.000        &        0.035    &        0.035     \\\\\n\\textbf{x157}  &      -0.4051  &     1.47e-15     & -2.76e+14  &         0.000        &       -0.405    &       -0.405     \\\\\n\\textbf{x158}  &       0.0170  &     1.18e-15     &  1.45e+13  &         0.000        &        0.017    &        0.017     \\\\\n\\textbf{x159}  &       0.2516  &     3.05e-15     &  8.25e+13  &         0.000        &        0.252    &        0.252     \\\\\n\\textbf{x160}  &      -0.1893  &     2.71e-15     & -6.98e+13  &         0.000        &       -0.189    &       -0.189     \\\\\n\\textbf{x161}  &       0.3152  &     5.23e-15     &  6.03e+13  &         0.000        &        0.315    &        0.315     \\\\\n\\bottomrule\n\\end{tabular}\n\\end{center}"
          },
          "metadata": {},
          "execution_count": 52
        }
      ]
    },
    {
      "cell_type": "markdown",
      "source": [
        "We could try using a regularized linear regression like the Lasso."
      ],
      "metadata": {
        "id": "2ZZeilT9Wb2z"
      }
    },
    {
      "cell_type": "code",
      "source": [
        "from sklearn.linear_model import LassoCV\n",
        "\n",
        "LassoCV().fit(np.hstack([D.reshape(-1, 1), W, D.reshape(-1, 1) * W]), Y).coef_[0]"
      ],
      "metadata": {
        "colab": {
          "base_uri": "https://localhost:8080/"
        },
        "id": "eCAQWS9_WHz-",
        "outputId": "3f0b3eca-c7e4-408d-9bfb-69976eaddc32"
      },
      "execution_count": 53,
      "outputs": [
        {
          "output_type": "stream",
          "name": "stderr",
          "text": [
            "/usr/local/lib/python3.11/dist-packages/sklearn/linear_model/_coordinate_descent.py:695: ConvergenceWarning: Objective did not converge. You might want to increase the number of iterations, check the scale of the features or consider increasing regularisation. Duality gap: 1.442e-02, tolerance: 1.240e-02\n",
            "  model = cd_fast.enet_coordinate_descent(\n",
            "/usr/local/lib/python3.11/dist-packages/sklearn/linear_model/_coordinate_descent.py:695: ConvergenceWarning: Objective did not converge. You might want to increase the number of iterations, check the scale of the features or consider increasing regularisation. Duality gap: 1.319e-02, tolerance: 1.240e-02\n",
            "  model = cd_fast.enet_coordinate_descent(\n"
          ]
        },
        {
          "output_type": "execute_result",
          "data": {
            "text/plain": [
              "0.0"
            ]
          },
          "metadata": {},
          "execution_count": 53
        }
      ]
    },
    {
      "cell_type": "markdown",
      "source": [
        "However, we see that Lasso returns a result that is very close to zero, due to regularization! So that doesn't solve our problem. How can we use the lasso more cleverly, while still getting the correct result, while controlling for many covariates?"
      ],
      "metadata": {
        "id": "CDA_x1ygWulm"
      }
    },
    {
      "cell_type": "code",
      "source": [],
      "metadata": {
        "id": "uCYwTpBRWnTm"
      },
      "execution_count": null,
      "outputs": []
    }
  ]
}