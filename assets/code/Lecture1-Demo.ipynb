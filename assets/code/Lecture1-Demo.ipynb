{
 "cells": [
  {
   "cell_type": "code",
   "execution_count": 1,
   "id": "da11e5a8",
   "metadata": {},
   "outputs": [],
   "source": [
    "import numpy as np"
   ]
  },
  {
   "cell_type": "code",
   "execution_count": 2,
   "id": "b8c3a418",
   "metadata": {},
   "outputs": [],
   "source": [
    "# A simple experimental data generating process\n",
    "def gen_data(n, d, p, delta, base\n",
    "    D = np.random.binomial(1, p, size=(n,))\n",
    "    X = np.random.normal(0, 1, size=(n, d))\n",
    "    y0 = base - X[:, 0] + np.random.normal(0, 1, size=(n,))\n",
    "    y1 = delta + base + X[:, 0] + np.random.normal(0, 1, size=(n,))\n",
    "    y = y1 * D + y0 * (1 - D)\n",
    "    return y, D, X"
   ]
  },
  {
   "cell_type": "code",
   "execution_count": 3,
   "id": "258d88f2",
   "metadata": {},
   "outputs": [],
   "source": [
    "n = 1000 # n samples\n",
    "delta = 1.0 # treatment effect\n",
    "base = .3 # baseline outcome"
   ]
  },
  {
   "cell_type": "code",
   "execution_count": 4,
   "id": "69d66c15",
   "metadata": {},
   "outputs": [],
   "source": [
    "# Simple two means estimate and calcualtion of variance\n",
    "def twomeans(y, D):\n",
    "    hat0 = np.mean(y[D==0]) # mean of outcome of un-treated\n",
    "    hat1 = np.mean(y[D==1]) # mean of outcome of treated\n",
    "    V0 = np.var(y[D==0]) / np.mean(1 - D) # asymptotic variance of the mean of outcome of untreated\n",
    "    V1 = np.var(y[D==1]) / np.mean(D) # asymptotic variance of the mean of outcome of treated\n",
    "    return hat0, hat1, V0, V1"
   ]
  },
  {
   "cell_type": "code",
   "execution_count": 5,
   "id": "db73000b",
   "metadata": {},
   "outputs": [],
   "source": [
    "y, D, X = gen_data(n, 2, .2, delta, base) # generate RCT data\n",
    "hat0, hat1, V0, V1 = twomeans(y, D) # calculate estimation quantities"
   ]
  },
  {
   "cell_type": "code",
   "execution_count": 6,
   "id": "4eb13666",
   "metadata": {},
   "outputs": [
    {
     "data": {
      "text/plain": [
       "0.8388466359701585"
      ]
     },
     "execution_count": 6,
     "metadata": {},
     "output_type": "execute_result"
    }
   ],
   "source": [
    "hat = hat1 - hat0 # estimate of effect\n",
    "hat"
   ]
  },
  {
   "cell_type": "code",
   "execution_count": 7,
   "id": "70186322",
   "metadata": {},
   "outputs": [
    {
     "data": {
      "text/plain": [
       "0.10802464049926344"
      ]
     },
     "execution_count": 7,
     "metadata": {},
     "output_type": "execute_result"
    }
   ],
   "source": [
    "stderr = np.sqrt((V0 + V1) / n) # standard error of estimate of effect\n",
    "stderr"
   ]
  },
  {
   "cell_type": "code",
   "execution_count": 8,
   "id": "9151579b",
   "metadata": {},
   "outputs": [
    {
     "data": {
      "text/plain": [
       "[0.6271183405916022, 1.050574931348715]"
      ]
     },
     "execution_count": 8,
     "metadata": {},
     "output_type": "execute_result"
    }
   ],
   "source": [
    "ci = [hat - 1.96 * stderr, hat + 1.96 * stderr] # 95% confidence interval for effect\n",
    "ci"
   ]
  },
  {
   "cell_type": "code",
   "execution_count": 9,
   "id": "3e58c0e9",
   "metadata": {},
   "outputs": [],
   "source": [
    "# Let's measure coverage: how many times among 100 iterations\n",
    "# of the experiment, does our 95% confidence interval contain\n",
    "# the true parameter. It should be 95% of the times\n",
    "cov = []\n",
    "for _ in range(100):\n",
    "    y, D, X = gen_data(n, 2, .2, delta, base)\n",
    "    hat0, hat1, V0, V1 = twomeans(y, D)\n",
    "    hat = hat1 - hat0\n",
    "    stderr = np.sqrt((V0 + V1) / n)\n",
    "    ci = [hat - 1.96 * stderr, hat + 1.96 * stderr]\n",
    "    cov += [(ci[0] <= delta) & (delta <= ci[1])] # 1 if CI contains the true parameter"
   ]
  },
  {
   "cell_type": "code",
   "execution_count": 10,
   "id": "67f2a63d",
   "metadata": {},
   "outputs": [
    {
     "data": {
      "text/plain": [
       "0.94"
      ]
     },
     "execution_count": 10,
     "metadata": {},
     "output_type": "execute_result"
    }
   ],
   "source": [
    "np.mean(cov)"
   ]
  },
  {
   "cell_type": "code",
   "execution_count": 11,
   "id": "218b5a00",
   "metadata": {},
   "outputs": [],
   "source": [
    "# Let's estimate Relative Effects RE\n",
    "y, D, X = gen_data(n, 2, .2, delta, base)\n",
    "hat0, hat1, V0, V1 = twomeans(y, D)"
   ]
  },
  {
   "cell_type": "code",
   "execution_count": 12,
   "id": "fca52c84",
   "metadata": {},
   "outputs": [
    {
     "data": {
      "text/plain": [
       "3.3333333333333335"
      ]
     },
     "execution_count": 12,
     "metadata": {},
     "output_type": "execute_result"
    }
   ],
   "source": [
    "true_re = delta / base # RE = effect / baseline\n",
    "true_re"
   ]
  },
  {
   "cell_type": "code",
   "execution_count": 13,
   "id": "70976e99",
   "metadata": {},
   "outputs": [
    {
     "data": {
      "text/plain": [
       "2.734126139580923"
      ]
     },
     "execution_count": 13,
     "metadata": {},
     "output_type": "execute_result"
    }
   ],
   "source": [
    "hat = hat1 / hat0 - 1 # estimate of RE\n",
    "hat"
   ]
  },
  {
   "cell_type": "code",
   "execution_count": 14,
   "id": "a931b379",
   "metadata": {},
   "outputs": [
    {
     "data": {
      "text/plain": [
       "0.7009732747035597"
      ]
     },
     "execution_count": 14,
     "metadata": {},
     "output_type": "execute_result"
    }
   ],
   "source": [
    "# standard error of RE based on the delta method\n",
    "stderr = np.sqrt( (V0 * hat1**2 / hat0**4 + V1 / hat0**2) / n )\n",
    "stderr"
   ]
  },
  {
   "cell_type": "code",
   "execution_count": 15,
   "id": "13818549",
   "metadata": {},
   "outputs": [],
   "source": [
    "# Let's calculate coverage of the 95% CI for the RE\n",
    "cov = []\n",
    "true_re = delta / base\n",
    "for _ in range(100):\n",
    "    y, D, X = gen_data(n, 2, .2, delta, base)\n",
    "    hat0, hat1, V0, V1 = twomeans(y, D)\n",
    "    hat = hat1 / hat0 - 1\n",
    "    stderr = np.sqrt( (V0 * hat1**2 / hat0**4 + V1 / hat0**2) / n )\n",
    "    ci = [hat - 1.96 * stderr, hat + 1.96 * stderr]\n",
    "    cov += [(ci[0] <= true_re) & (true_re <= ci[1])]"
   ]
  },
  {
   "cell_type": "code",
   "execution_count": 16,
   "id": "338a8443",
   "metadata": {},
   "outputs": [
    {
     "data": {
      "text/plain": [
       "0.97"
      ]
     },
     "execution_count": 16,
     "metadata": {},
     "output_type": "execute_result"
    }
   ],
   "source": [
    "np.mean(cov)"
   ]
  },
  {
   "cell_type": "code",
   "execution_count": 17,
   "id": "8f0157ad",
   "metadata": {},
   "outputs": [],
   "source": [
    "# Vaccine trial confidence intervals from contigency table\n",
    "N0cases = 169\n",
    "N0 = 20172\n",
    "N1cases = 9\n",
    "N1 = 19965"
   ]
  },
  {
   "cell_type": "code",
   "execution_count": 18,
   "id": "46ed4eb2",
   "metadata": {},
   "outputs": [],
   "source": [
    "hat0 = N0cases / N0 # estimate of baseline mean outcome\n",
    "hat1 = N1cases / N1 # estimate of treatment mean outcome\n",
    "n = N0 + N1 # overall samples \n",
    "V0 = hat0 * (1 - hat0) / (N0 / n) # asymptotic variance of baseline mean outcome\n",
    "V1 = hat1 * (1 - hat1) / (N1 / n) # asymptotic variance of treatment mean outcome"
   ]
  },
  {
   "cell_type": "code",
   "execution_count": 19,
   "id": "41208b81",
   "metadata": {},
   "outputs": [
    {
     "data": {
      "text/plain": [
       "0.9461934124362605"
      ]
     },
     "execution_count": 19,
     "metadata": {},
     "output_type": "execute_result"
    }
   ],
   "source": [
    "hat = 1 - hat1 / hat0 # VE = -RE\n",
    "hat"
   ]
  },
  {
   "cell_type": "code",
   "execution_count": 20,
   "id": "2dee56c0",
   "metadata": {},
   "outputs": [
    {
     "data": {
      "text/plain": [
       "0.018399068760881994"
      ]
     },
     "execution_count": 20,
     "metadata": {},
     "output_type": "execute_result"
    }
   ],
   "source": [
    "# standard error of VE based on the delta method\n",
    "stderr = np.sqrt( (V0 * hat1**2 / hat0**4 + V1 / hat0**2) / n )\n",
    "stderr"
   ]
  },
  {
   "cell_type": "code",
   "execution_count": 21,
   "id": "c7dd0ee6",
   "metadata": {},
   "outputs": [
    {
     "data": {
      "text/plain": [
       "[0.9101312376649319, 0.9822555872075892]"
      ]
     },
     "execution_count": 21,
     "metadata": {},
     "output_type": "execute_result"
    }
   ],
   "source": [
    "ci = [hat - 1.96 * stderr, hat + 1.96 * stderr]\n",
    "ci"
   ]
  }
 ],
 "metadata": {
  "kernelspec": {
   "display_name": "Python 3 (ipykernel)",
   "language": "python",
   "name": "python3"
  },
  "language_info": {
   "codemirror_mode": {
    "name": "ipython",
    "version": 3
   },
   "file_extension": ".py",
   "mimetype": "text/x-python",
   "name": "python",
   "nbconvert_exporter": "python",
   "pygments_lexer": "ipython3",
   "version": "3.10.9"
  }
 },
 "nbformat": 4,
 "nbformat_minor": 5
}
