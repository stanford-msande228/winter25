{
 "cells": [
  {
   "cell_type": "code",
   "execution_count": 1,
   "id": "4dfb4672",
   "metadata": {},
   "outputs": [],
   "source": [
    "import numpy as np\n",
    "from sklearn.linear_model import LinearRegression"
   ]
  },
  {
   "cell_type": "code",
   "execution_count": 2,
   "id": "79dc017a",
   "metadata": {},
   "outputs": [],
   "source": [
    "# simple regression data generating process with linear CEF\n",
    "def gen_data(n, p, beta):\n",
    "    X = np.random.normal(0, 1, size=(n, p))\n",
    "    y = X @ beta + np.random.normal(0, 1, size=(n,))\n",
    "    return X, y"
   ]
  },
  {
   "cell_type": "code",
   "execution_count": 3,
   "id": "90115392",
   "metadata": {},
   "outputs": [],
   "source": [
    "n = 100\n",
    "p = 40\n",
    "beta = np.zeros(p)\n",
    "beta[0] = 1 # only the first covariate is relevant\n",
    "X, y = gen_data(n, p, beta)"
   ]
  },
  {
   "cell_type": "code",
   "execution_count": 4,
   "id": "d412b881",
   "metadata": {},
   "outputs": [
    {
     "data": {
      "text/plain": [
       "0.5706582967272859"
      ]
     },
     "execution_count": 4,
     "metadata": {},
     "output_type": "execute_result"
    }
   ],
   "source": [
    "lr = LinearRegression().fit(X, y) # fit OLS\n",
    "rmse = np.sqrt(np.mean((X @ beta - lr.predict(X))**2)) # calculate in-sample RMSE\n",
    "rmse"
   ]
  },
  {
   "cell_type": "code",
   "execution_count": 5,
   "id": "fdc1470a",
   "metadata": {},
   "outputs": [
    {
     "data": {
      "text/plain": [
       "0.5090178392415295"
      ]
     },
     "execution_count": 5,
     "metadata": {},
     "output_type": "execute_result"
    }
   ],
   "source": [
    "epsilon = y - lr.predict(X) # calculate residual y - X'beta_hat\n",
    "# calculate theoretical upper bound (up to constants) on RMSE\n",
    "np.sqrt(np.mean(epsilon**2)) * np.sqrt(p / n)"
   ]
  },
  {
   "cell_type": "code",
   "execution_count": 6,
   "id": "a8b4f4b0",
   "metadata": {},
   "outputs": [],
   "source": [
    "# high-dimensional regime; n=p\n",
    "n = 100\n",
    "p = 100\n",
    "beta = np.zeros(p)\n",
    "X, y = gen_data(n, p, beta)"
   ]
  },
  {
   "cell_type": "code",
   "execution_count": 7,
   "id": "97325a7d",
   "metadata": {},
   "outputs": [
    {
     "data": {
      "text/plain": [
       "1.6924465802485186e-14"
      ]
     },
     "execution_count": 7,
     "metadata": {},
     "output_type": "execute_result"
    }
   ],
   "source": [
    "lr = LinearRegression().fit(X, y) # fit OLS\n",
    "rmse = np.sqrt(np.mean((y - lr.predict(X))**2)) # calculate in-sample RMSE\n",
    "rmse"
   ]
  },
  {
   "cell_type": "markdown",
   "id": "a31d2c92",
   "metadata": {},
   "source": [
    "We see that in sample RMSE is zero!"
   ]
  },
  {
   "cell_type": "code",
   "execution_count": 8,
   "id": "5a8e828c",
   "metadata": {},
   "outputs": [
    {
     "data": {
      "text/plain": [
       "0.9212488984468548"
      ]
     },
     "execution_count": 8,
     "metadata": {},
     "output_type": "execute_result"
    }
   ],
   "source": [
    "# calculate true approximation error with true CEF\n",
    "rmse = np.sqrt(np.mean((X @ beta - lr.predict(X))**2))\n",
    "rmse"
   ]
  },
  {
   "cell_type": "markdown",
   "id": "d534580b",
   "metadata": {},
   "source": [
    "We see that approximation error is very large! In sample RMSE was mis-leading"
   ]
  },
  {
   "cell_type": "code",
   "execution_count": 9,
   "id": "a09b9b73",
   "metadata": {},
   "outputs": [],
   "source": [
    "Xtest, ytest = gen_data(n, p, beta) # generate test data"
   ]
  },
  {
   "cell_type": "code",
   "execution_count": 10,
   "id": "f0e89884",
   "metadata": {},
   "outputs": [
    {
     "data": {
      "text/plain": [
       "14.648422979508537"
      ]
     },
     "execution_count": 10,
     "metadata": {},
     "output_type": "execute_result"
    }
   ],
   "source": [
    "rmse = np.sqrt(np.mean((ytest - lr.predict(Xtest))**2)) # calculate RMSE on test data\n",
    "rmse"
   ]
  },
  {
   "cell_type": "markdown",
   "id": "a44d60ed",
   "metadata": {},
   "source": [
    "We see it paints a more accurate picture"
   ]
  },
  {
   "cell_type": "code",
   "execution_count": 11,
   "id": "cb4ae974",
   "metadata": {},
   "outputs": [],
   "source": [
    "from statsmodels.api import OLS\n",
    "# let's see the coverage performance of difference adjusted covariance\n",
    "# estimates when p is comparable to n\n",
    "n = 100\n",
    "p = 50\n",
    "true = .1\n",
    "\n",
    "cov_hc0 = []\n",
    "cov_hc1 = []\n",
    "cov_hc3 = []\n",
    "for _ in range(100):\n",
    "    X = np.random.normal(0, 1, size=(n, p))\n",
    "    y = true * X[:, 0] + np.random.normal(0, 1, size=(n,))\n",
    "    res = OLS(y, X).fit(cov_type='HC0') # plain heteroskedasticity robust std\n",
    "    ci = res.conf_int()[0]\n",
    "    cov_hc0 += [(ci[0] <= true) & (true <= ci[1])]\n",
    "    res = OLS(y, X).fit(cov_type='HC1') # heteroskedasticity robust std with adjustment n/(n-p)\n",
    "    ci = res.conf_int()[0]\n",
    "    cov_hc1 += [(ci[0] <= true) & (true <= ci[1])]\n",
    "    # more conservative robust std with finite sample adjustment\n",
    "    # provably is conservative even in high-dimensional regime (i.e p/n = constant)\n",
    "    # see: Cattaneo, Jansson, Newey, Inference in Linear Regression Models\n",
    "    # with Many Covariates and Heteroscedasticity\n",
    "    res = OLS(y, X).fit(cov_type='HC3')\n",
    "    ci = res.conf_int()[0]\n",
    "    cov_hc3 += [(ci[0] <= true) & (true <= ci[1])]"
   ]
  },
  {
   "cell_type": "code",
   "execution_count": 12,
   "id": "f5081785",
   "metadata": {},
   "outputs": [
    {
     "data": {
      "text/plain": [
       "0.79"
      ]
     },
     "execution_count": 12,
     "metadata": {},
     "output_type": "execute_result"
    }
   ],
   "source": [
    "np.mean(cov_hc0)"
   ]
  },
  {
   "cell_type": "code",
   "execution_count": 13,
   "id": "12485dee",
   "metadata": {},
   "outputs": [
    {
     "data": {
      "text/plain": [
       "0.92"
      ]
     },
     "execution_count": 13,
     "metadata": {},
     "output_type": "execute_result"
    }
   ],
   "source": [
    "np.mean(cov_hc1)"
   ]
  },
  {
   "cell_type": "code",
   "execution_count": 14,
   "id": "2f184ae3",
   "metadata": {},
   "outputs": [
    {
     "data": {
      "text/plain": [
       "1.0"
      ]
     },
     "execution_count": 14,
     "metadata": {},
     "output_type": "execute_result"
    }
   ],
   "source": [
    "np.mean(cov_hc3)"
   ]
  },
  {
   "cell_type": "code",
   "execution_count": null,
   "id": "bdae8e78",
   "metadata": {},
   "outputs": [],
   "source": []
  }
 ],
 "metadata": {
  "kernelspec": {
   "display_name": "Python 3 (ipykernel)",
   "language": "python",
   "name": "python3"
  },
  "language_info": {
   "codemirror_mode": {
    "name": "ipython",
    "version": 3
   },
   "file_extension": ".py",
   "mimetype": "text/x-python",
   "name": "python",
   "nbconvert_exporter": "python",
   "pygments_lexer": "ipython3",
   "version": "3.9.13"
  }
 },
 "nbformat": 4,
 "nbformat_minor": 5
}
