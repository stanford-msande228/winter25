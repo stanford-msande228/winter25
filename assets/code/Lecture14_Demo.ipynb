{
  "cells": [
    {
      "cell_type": "code",
      "execution_count": 1,
      "id": "da11e5a8",
      "metadata": {
        "id": "da11e5a8"
      },
      "outputs": [],
      "source": [
        "import numpy as np\n",
        "import warnings\n",
        "import matplotlib.pyplot as plt\n",
        "from sklearn.base import BaseEstimator\n",
        "warnings.simplefilter('ignore')"
      ]
    },
    {
      "cell_type": "markdown",
      "id": "f815a26a",
      "metadata": {
        "id": "f815a26a"
      },
      "source": [
        "To load the hdmpy package which is used in the code below run the method below run from a jupyter notebook cell the code below\n",
        "```\n",
        "!pip install multiprocess\n",
        "!pip install pyreadr\n",
        "!git clone https://github.com/maxhuppertz/hdmpy.git\n",
        "```"
      ]
    },
    {
      "cell_type": "code",
      "execution_count": 2,
      "id": "0a0b10de",
      "metadata": {
        "id": "0a0b10de",
        "outputId": "8785940a-6665-4e05-c3aa-92af149a5f1c",
        "colab": {
          "base_uri": "https://localhost:8080/"
        }
      },
      "outputs": [
        {
          "output_type": "stream",
          "name": "stdout",
          "text": [
            "Collecting multiprocess\n",
            "  Downloading multiprocess-0.70.17-py311-none-any.whl.metadata (7.2 kB)\n",
            "Collecting dill>=0.3.9 (from multiprocess)\n",
            "  Downloading dill-0.3.9-py3-none-any.whl.metadata (10 kB)\n",
            "Downloading multiprocess-0.70.17-py311-none-any.whl (144 kB)\n",
            "\u001b[2K   \u001b[90m━━━━━━━━━━━━━━━━━━━━━━━━━━━━━━━━━━━━━━━━\u001b[0m \u001b[32m144.3/144.3 kB\u001b[0m \u001b[31m5.7 MB/s\u001b[0m eta \u001b[36m0:00:00\u001b[0m\n",
            "\u001b[?25hDownloading dill-0.3.9-py3-none-any.whl (119 kB)\n",
            "\u001b[2K   \u001b[90m━━━━━━━━━━━━━━━━━━━━━━━━━━━━━━━━━━━━━━━━\u001b[0m \u001b[32m119.4/119.4 kB\u001b[0m \u001b[31m11.8 MB/s\u001b[0m eta \u001b[36m0:00:00\u001b[0m\n",
            "\u001b[?25hInstalling collected packages: dill, multiprocess\n",
            "Successfully installed dill-0.3.9 multiprocess-0.70.17\n",
            "Collecting pyreadr\n",
            "  Downloading pyreadr-0.5.2-cp311-cp311-manylinux_2_17_x86_64.manylinux2014_x86_64.whl.metadata (1.2 kB)\n",
            "Requirement already satisfied: pandas>=1.2.0 in /usr/local/lib/python3.11/dist-packages (from pyreadr) (2.2.2)\n",
            "Requirement already satisfied: numpy>=1.23.2 in /usr/local/lib/python3.11/dist-packages (from pandas>=1.2.0->pyreadr) (1.26.4)\n",
            "Requirement already satisfied: python-dateutil>=2.8.2 in /usr/local/lib/python3.11/dist-packages (from pandas>=1.2.0->pyreadr) (2.8.2)\n",
            "Requirement already satisfied: pytz>=2020.1 in /usr/local/lib/python3.11/dist-packages (from pandas>=1.2.0->pyreadr) (2025.1)\n",
            "Requirement already satisfied: tzdata>=2022.7 in /usr/local/lib/python3.11/dist-packages (from pandas>=1.2.0->pyreadr) (2025.1)\n",
            "Requirement already satisfied: six>=1.5 in /usr/local/lib/python3.11/dist-packages (from python-dateutil>=2.8.2->pandas>=1.2.0->pyreadr) (1.17.0)\n",
            "Downloading pyreadr-0.5.2-cp311-cp311-manylinux_2_17_x86_64.manylinux2014_x86_64.whl (416 kB)\n",
            "\u001b[2K   \u001b[90m━━━━━━━━━━━━━━━━━━━━━━━━━━━━━━━━━━━━━━━━\u001b[0m \u001b[32m416.0/416.0 kB\u001b[0m \u001b[31m9.5 MB/s\u001b[0m eta \u001b[36m0:00:00\u001b[0m\n",
            "\u001b[?25hInstalling collected packages: pyreadr\n",
            "Successfully installed pyreadr-0.5.2\n",
            "Cloning into 'hdmpy'...\n",
            "remote: Enumerating objects: 70, done.\u001b[K\n",
            "remote: Counting objects: 100% (70/70), done.\u001b[K\n",
            "remote: Compressing objects: 100% (49/49), done.\u001b[K\n",
            "remote: Total 70 (delta 39), reused 52 (delta 21), pack-reused 0 (from 0)\u001b[K\n",
            "Receiving objects: 100% (70/70), 25.30 KiB | 12.65 MiB/s, done.\n",
            "Resolving deltas: 100% (39/39), done.\n"
          ]
        }
      ],
      "source": [
        "!pip install multiprocess\n",
        "!pip install pyreadr\n",
        "!git clone https://github.com/maxhuppertz/hdmpy.git"
      ]
    },
    {
      "cell_type": "code",
      "execution_count": 3,
      "id": "d465905f",
      "metadata": {
        "id": "d465905f"
      },
      "outputs": [],
      "source": [
        "import sys\n",
        "sys.path.insert(1, \"./hdmpy\")\n",
        "import hdmpy"
      ]
    },
    {
      "cell_type": "code",
      "execution_count": 4,
      "id": "d5d475d7",
      "metadata": {
        "id": "d5d475d7"
      },
      "outputs": [],
      "source": [
        "# An estimator class that runs the lasso with theoretically driven penalty choice.\n",
        "# Better in small samples than cross-validation and also faster computationally\n",
        "class RLasso(BaseEstimator):\n",
        "\n",
        "    def __init__(self, *, post=False):\n",
        "        self.post = post\n",
        "\n",
        "    def fit(self, X, y):\n",
        "        self.rlasso_ = hdmpy.rlasso(X, y, post=self.post)\n",
        "        return self\n",
        "\n",
        "    @property\n",
        "    def coef_(self):\n",
        "        return np.array(self.rlasso_.est['beta']).flatten()\n",
        "\n",
        "    def predict(self, X):\n",
        "        return X @ self.coef_ + np.array(self.rlasso_.est['intercept'])"
      ]
    },
    {
      "cell_type": "code",
      "execution_count": 259,
      "id": "b0eeedd3",
      "metadata": {
        "id": "b0eeedd3"
      },
      "outputs": [],
      "source": [
        "import scipy.special\n",
        "def gen_data(n, d, p, delta, base):\n",
        "    X = np.random.uniform(-3, 3, size=(n, d))\n",
        "    D = .5 * X[:, 0]**2 + np.random.normal(0, 1, size=(n,))\n",
        "    y = delta * D + base - X[:, 0] + np.random.normal(0, 1, size=(n,))\n",
        "    return y, D, X"
      ]
    },
    {
      "cell_type": "code",
      "source": [
        "# Now we simply replace OLS with Lasso to implement the Double Lasso process\n",
        "def double_lasso(y, D, X):\n",
        "    modely = RLasso().fit(X, y)\n",
        "    yres = y - modely.predict(X) # residualize outcome with Lasso\n",
        "    modeld = RLasso().fit(X, D)\n",
        "    Dres = D - modeld.predict(X) # residualize treatment with Lasso\n",
        "    # rest is the same as in the OLS case\n",
        "    hat = np.mean(yres * Dres) / np.mean(Dres**2)\n",
        "    epsilon = yres - hat * Dres\n",
        "    V = np.mean(epsilon**2 * Dres**2) / np.mean(Dres**2)**2\n",
        "    return hat, np.sqrt(V / y.shape[0])"
      ],
      "metadata": {
        "id": "MKPytS_aMvzh"
      },
      "id": "MKPytS_aMvzh",
      "execution_count": 260,
      "outputs": []
    },
    {
      "cell_type": "code",
      "source": [
        "from sklearn.model_selection import cross_val_predict, train_test_split\n",
        "from sklearn.linear_model import LassoCV\n",
        "from xgboost import XGBRegressor\n",
        "from sklearn.ensemble import GradientBoostingRegressor, StackingRegressor\n",
        "from sklearn.base import BaseEstimator\n",
        "\n",
        "class MyXGB(XGBRegressor):\n",
        "\n",
        "    def fit(self, X, y):\n",
        "        X, Xval, y, yval = train_test_split(X, y, test_size=0.2)\n",
        "        super().fit(X, y, eval_set=[(Xval, yval)], verbose=False)\n",
        "        return self\n",
        "\n",
        "def generic_ml_model():\n",
        "    return MyXGB(verbose=0, max_depth=3, min_child_weight=50, learning_rate=0.1, early_stopping_rounds=4)\n",
        "\n",
        "def doubleml(y, D, X,\n",
        "             modely=generic_ml_model(),\n",
        "             modeld=generic_ml_model()):\n",
        "    yres = y - cross_val_predict(modely, X, y, cv=5)\n",
        "    Dres = D - cross_val_predict(modeld, X, D, cv=5)\n",
        "    # rest is the same as in the OLS case\n",
        "    hat = np.mean(yres * Dres) / np.mean(Dres**2)\n",
        "    epsilon = yres - hat * Dres\n",
        "    V = np.mean(epsilon**2 * Dres**2) / np.mean(Dres**2)**2\n",
        "    return hat, np.sqrt(V / y.shape[0]), yres, Dres"
      ],
      "metadata": {
        "id": "9ccvSr80MS3Q"
      },
      "id": "9ccvSr80MS3Q",
      "execution_count": 261,
      "outputs": []
    },
    {
      "cell_type": "code",
      "source": [
        "np.random.seed(1234)\n",
        "n = 10000\n",
        "d = 10\n",
        "delta = 1.0\n",
        "base = 0.3\n",
        "y, D, X = gen_data(n, d, .2, delta, base)\n",
        "hat, stderr, yres, Dres = doubleml(y, D, X) # we apply the double lasso process\n",
        "ci = [hat - 1.96 * stderr, hat + 1.96 * stderr]\n",
        "hat, stderr, (ci[0] <= delta) & (delta <= ci[1])"
      ],
      "metadata": {
        "colab": {
          "base_uri": "https://localhost:8080/"
        },
        "id": "89JtemUUXDwo",
        "outputId": "7f3d4930-8c60-4131-ee76-f3d3470da164"
      },
      "id": "89JtemUUXDwo",
      "execution_count": 270,
      "outputs": [
        {
          "output_type": "execute_result",
          "data": {
            "text/plain": [
              "(0.9872893566755738, 0.010118293671754494, True)"
            ]
          },
          "metadata": {},
          "execution_count": 270
        }
      ]
    },
    {
      "cell_type": "code",
      "source": [
        "# R^2 for outcome and treatment model\n",
        "1 - np.mean(yres**2 / np.var(y)), 1 - np.mean(Dres**2 / np.var(D))"
      ],
      "metadata": {
        "colab": {
          "base_uri": "https://localhost:8080/"
        },
        "id": "TtnQsLfNYmnn",
        "outputId": "53965691-d55f-4e8e-bf77-76c25e2e1e3f"
      },
      "id": "TtnQsLfNYmnn",
      "execution_count": 271,
      "outputs": [
        {
          "output_type": "execute_result",
          "data": {
            "text/plain": [
              "(0.7068097795800947, 0.6415632797147914)"
            ]
          },
          "metadata": {},
          "execution_count": 271
        }
      ]
    },
    {
      "cell_type": "code",
      "source": [
        "plt.scatter(delta * .5 * X[:, 0]**2 - X[:, 0] + base, y - yres)\n",
        "plt.show()"
      ],
      "metadata": {
        "colab": {
          "base_uri": "https://localhost:8080/",
          "height": 430
        },
        "id": "76b5cSWDgbP_",
        "outputId": "bf3ef008-93bf-41ce-e3ae-c06e070fb71d"
      },
      "id": "76b5cSWDgbP_",
      "execution_count": 272,
      "outputs": [
        {
          "output_type": "display_data",
          "data": {
            "text/plain": [
              "<Figure size 640x480 with 1 Axes>"
            ],
            "image/png": "[encoded data removed]"
          },
          "metadata": {}
        }
      ]
    },
    {
      "cell_type": "code",
      "execution_count": 273,
      "id": "5d52c197",
      "metadata": {
        "id": "5d52c197",
        "outputId": "4fdb98fa-3f38-46ed-dc68-36bd25fb50e8",
        "colab": {
          "base_uri": "https://localhost:8080/"
        }
      },
      "outputs": [
        {
          "output_type": "stream",
          "name": "stderr",
          "text": [
            "[Parallel(n_jobs=-1)]: Using backend LokyBackend with 12 concurrent workers.\n",
            "[Parallel(n_jobs=-1)]: Done   8 tasks      | elapsed:    1.2s\n",
            "[Parallel(n_jobs=-1)]: Done 100 out of 100 | elapsed:   10.3s finished\n"
          ]
        }
      ],
      "source": [
        "# But let's try the Neyman orthogonal Double Lasso\n",
        "from joblib import Parallel, delayed\n",
        "\n",
        "def exp(it, n, d, delta=1.0, base=0.3):\n",
        "    np.random.seed(it)\n",
        "    y, D, X = gen_data(n, d, .2, delta, base)\n",
        "    hat, stderr, yres, Dres = doubleml(y, D, X) # we apply the double lasso process\n",
        "    ci = [hat - 1.96 * stderr, hat + 1.96 * stderr]\n",
        "    return hat, stderr, (ci[0] <= delta) & (delta <= ci[1])\n",
        "\n",
        "n = 10000\n",
        "d = 10\n",
        "res = Parallel(n_jobs=-1, verbose=3)(delayed(exp)(it, n, d) for it in range(100))\n",
        "hats, stderrs, cov = zip(*res)"
      ]
    },
    {
      "cell_type": "code",
      "execution_count": 274,
      "id": "3c289eb3",
      "metadata": {
        "id": "3c289eb3",
        "outputId": "1b9c0951-82de-4633-dbf8-368d4c3f3c20",
        "colab": {
          "base_uri": "https://localhost:8080/"
        }
      },
      "outputs": [
        {
          "output_type": "execute_result",
          "data": {
            "text/plain": [
              "0.94"
            ]
          },
          "metadata": {},
          "execution_count": 274
        }
      ],
      "source": [
        "np.mean(cov) # great coverage"
      ]
    },
    {
      "cell_type": "code",
      "execution_count": 275,
      "id": "add24767",
      "metadata": {
        "id": "add24767",
        "outputId": "520ba432-e953-490b-bad7-832d7867686a",
        "colab": {
          "base_uri": "https://localhost:8080/"
        }
      },
      "outputs": [
        {
          "output_type": "execute_result",
          "data": {
            "text/plain": [
              "(0.006098027871111467, 0.009976320300885301)"
            ]
          },
          "metadata": {},
          "execution_count": 275
        }
      ],
      "source": [
        "1 - np.mean(hats), np.std(hats) # very small bias compared to standard deviation"
      ]
    },
    {
      "cell_type": "code",
      "execution_count": 276,
      "id": "8a89f4c7",
      "metadata": {
        "id": "8a89f4c7",
        "outputId": "587b8fe6-64bc-413d-d1ac-a66eb3be0ce5",
        "colab": {
          "base_uri": "https://localhost:8080/"
        }
      },
      "outputs": [
        {
          "output_type": "execute_result",
          "data": {
            "text/plain": [
              "0.010049644889040706"
            ]
          },
          "metadata": {},
          "execution_count": 276
        }
      ],
      "source": [
        "np.mean(stderrs) # accurate estimation of uncertainty"
      ]
    },
    {
      "cell_type": "code",
      "execution_count": 277,
      "id": "d33463a5",
      "metadata": {
        "id": "d33463a5",
        "outputId": "7feb4516-6869-4acf-a2ba-21a3c8cb7b7f",
        "colab": {
          "base_uri": "https://localhost:8080/",
          "height": 430
        }
      },
      "outputs": [
        {
          "output_type": "display_data",
          "data": {
            "text/plain": [
              "<Figure size 640x480 with 1 Axes>"
            ],
            "image/png": "[encoded data removed]"
          },
          "metadata": {}
        }
      ],
      "source": [
        "# Approximately normal distribution of estimates, centered at the truth\n",
        "plt.hist(hats)\n",
        "plt.show()"
      ]
    },
    {
      "cell_type": "code",
      "execution_count": null,
      "id": "e3ae78ae",
      "metadata": {
        "id": "e3ae78ae"
      },
      "outputs": [],
      "source": []
    }
  ],
  "metadata": {
    "kernelspec": {
      "display_name": "Python 3",
      "name": "python3"
    },
    "language_info": {
      "codemirror_mode": {
        "name": "ipython",
        "version": 3
      },
      "file_extension": ".py",
      "mimetype": "text/x-python",
      "name": "python",
      "nbconvert_exporter": "python",
      "pygments_lexer": "ipython3",
      "version": "3.12.3"
    },
    "colab": {
      "provenance": [],
      "machine_shape": "hm",
      "gpuType": "A100"
    },
    "accelerator": "GPU"
  },
  "nbformat": 4,
  "nbformat_minor": 5
}