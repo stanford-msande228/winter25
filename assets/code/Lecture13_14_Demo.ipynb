{
  "cells": [
    {
      "cell_type": "code",
      "execution_count": 1,
      "id": "da11e5a8",
      "metadata": {
        "id": "da11e5a8"
      },
      "outputs": [],
      "source": [
        "import numpy as np\n",
        "import warnings\n",
        "import matplotlib.pyplot as plt\n",
        "from sklearn.base import BaseEstimator\n",
        "warnings.simplefilter('ignore')"
      ]
    },
    {
      "cell_type": "markdown",
      "id": "f815a26a",
      "metadata": {
        "id": "f815a26a"
      },
      "source": [
        "To load the hdmpy package which is used in the code below run the method below run from a jupyter notebook cell the code below\n",
        "```\n",
        "!pip install multiprocess\n",
        "!pip install pyreadr\n",
        "!git clone https://github.com/maxhuppertz/hdmpy.git\n",
        "```"
      ]
    },
    {
      "cell_type": "code",
      "execution_count": null,
      "id": "0a0b10de",
      "metadata": {
        "id": "0a0b10de"
      },
      "outputs": [],
      "source": [
        "!pip install multiprocess\n",
        "!pip install pyreadr\n",
        "!git clone https://github.com/maxhuppertz/hdmpy.git"
      ]
    },
    {
      "cell_type": "code",
      "execution_count": 3,
      "id": "d465905f",
      "metadata": {
        "id": "d465905f"
      },
      "outputs": [],
      "source": [
        "import sys\n",
        "sys.path.insert(1, \"./hdmpy\")\n",
        "import hdmpy"
      ]
    },
    {
      "cell_type": "code",
      "execution_count": 4,
      "id": "d5d475d7",
      "metadata": {
        "id": "d5d475d7"
      },
      "outputs": [],
      "source": [
        "# An estimator class that runs the lasso with theoretically driven penalty choice.\n",
        "# Better in small samples than cross-validation and also faster computationally\n",
        "class RLasso(BaseEstimator):\n",
        "\n",
        "    def __init__(self, *, post=False):\n",
        "        self.post = post\n",
        "\n",
        "    def fit(self, X, y):\n",
        "        self.rlasso_ = hdmpy.rlasso(X, y, post=self.post)\n",
        "        return self\n",
        "\n",
        "    @property\n",
        "    def coef_(self):\n",
        "        return np.array(self.rlasso_.est['beta']).flatten()\n",
        "\n",
        "    def predict(self, X):\n",
        "        return X @ self.coef_ + np.array(self.rlasso_.est['intercept'])"
      ]
    },
    {
      "cell_type": "code",
      "execution_count": 5,
      "id": "b0eeedd3",
      "metadata": {
        "id": "b0eeedd3"
      },
      "outputs": [],
      "source": [
        "import scipy.special\n",
        "\n",
        "def gen_data(n, d, delta, base, binary=True):\n",
        "    X = np.random.uniform(-2, 2, size=(n, d))\n",
        "    if binary:\n",
        "        D = np.random.binomial(1, scipy.special.expit(X[:, 0]), size=(n,))\n",
        "        true_modeld = lambda x: scipy.special.expit(x[:, 0])\n",
        "    else:\n",
        "        D = .5 * X[:, 0]**2 + np.random.normal(0, 1, size=(n,))\n",
        "        true_modeld = lambda x: .5 * x[:, 0]**2\n",
        "    y = delta * D + base - X[:, 0] + np.random.normal(0, 1, size=(n,))\n",
        "    true_modely = lambda x: delta * true_modeld(x) + base - x[:, 0]\n",
        "    return y, D, X, true_modeld, true_modely"
      ]
    },
    {
      "cell_type": "code",
      "source": [
        "# Now we simply replace OLS with Lasso to implement the Double Lasso process\n",
        "def double_lasso(y, D, X):\n",
        "    modely = RLasso().fit(X, y)\n",
        "    yres = y - modely.predict(X) # residualize outcome with Lasso\n",
        "    modeld = RLasso().fit(X, D)\n",
        "    Dres = D - modeld.predict(X) # residualize treatment with Lasso\n",
        "    # rest is the same as in the OLS case\n",
        "    hat = np.mean(yres * Dres) / np.mean(Dres**2)\n",
        "    epsilon = yres - hat * Dres\n",
        "    V = np.mean(epsilon**2 * Dres**2) / np.mean(Dres**2)**2\n",
        "    return hat, np.sqrt(V / y.shape[0])"
      ],
      "metadata": {
        "id": "MKPytS_aMvzh"
      },
      "id": "MKPytS_aMvzh",
      "execution_count": 6,
      "outputs": []
    },
    {
      "cell_type": "markdown",
      "source": [
        "# Double ML under a Partially Linear Model"
      ],
      "metadata": {
        "id": "I_7m9Q2Eg7Hp"
      },
      "id": "I_7m9Q2Eg7Hp"
    },
    {
      "cell_type": "code",
      "source": [
        "from sklearn.model_selection import cross_val_predict, train_test_split\n",
        "from sklearn.linear_model import LassoCV\n",
        "from xgboost import XGBRegressor\n",
        "from sklearn.ensemble import GradientBoostingRegressor, StackingRegressor\n",
        "from sklearn.base import BaseEstimator\n",
        "\n",
        "class MyXGB(XGBRegressor):\n",
        "    ''' We augment the xgboost regressor to perform early\n",
        "    stopping automatically, while strictly adhering to sklearn API\n",
        "    '''\n",
        "\n",
        "    def fit(self, X, y):\n",
        "        X, Xval, y, yval = train_test_split(X, y, test_size=0.2)\n",
        "        super().fit(X, y, eval_set=[(Xval, yval)], verbose=False)\n",
        "        return self\n",
        "\n",
        "def generic_ml_model():\n",
        "    return MyXGB(verbose=0, max_depth=5, gamma=0.001,\n",
        "                 min_child_weight=50, learning_rate=0.1,\n",
        "                 early_stopping_rounds=5)\n",
        "\n",
        "def doubleml(y, D, X,\n",
        "             modely=generic_ml_model(),\n",
        "             modeld=generic_ml_model()):\n",
        "    yres = y - cross_val_predict(modely, X, y, cv=5)\n",
        "    Dres = D - cross_val_predict(modeld, X, D, cv=5)\n",
        "    # rest is the same as in the OLS case\n",
        "    hat = np.mean(yres * Dres) / np.mean(Dres**2)\n",
        "    epsilon = yres - hat * Dres\n",
        "    V = np.mean(epsilon**2 * Dres**2) / np.mean(Dres**2)**2\n",
        "    return hat, np.sqrt(V / y.shape[0]), yres, Dres"
      ],
      "metadata": {
        "id": "9ccvSr80MS3Q"
      },
      "id": "9ccvSr80MS3Q",
      "execution_count": 7,
      "outputs": []
    },
    {
      "cell_type": "code",
      "source": [
        "np.random.seed(1234)\n",
        "n = 10000\n",
        "d = 5\n",
        "delta = 1.0\n",
        "base = 0.3\n",
        "y, D, X, true_modeld, true_modely = gen_data(n, d, delta, base)\n",
        "hat, stderr, yres, Dres = doubleml(y, D, X)\n",
        "ci = [hat - 1.96 * stderr, hat + 1.96 * stderr]\n",
        "print(f\"hat: {hat:.3f}, stderr: {stderr:.3f}, CI: ({ci[0]:.3f}, {ci[1]:.3f}), cov={(ci[0] <= delta) & (delta <= ci[1])}\")\n",
        "# R^2 for outcome and treatment model\n",
        "print(f\"R2(y): {1 - np.mean(yres**2) / np.var(y):.3f}, R2(D): {1 - np.mean(Dres**2) / np.var(D):.3f}\")"
      ],
      "metadata": {
        "colab": {
          "base_uri": "https://localhost:8080/"
        },
        "id": "89JtemUUXDwo",
        "outputId": "0349bac9-8fa8-4611-fac5-397b359d6b4c"
      },
      "id": "89JtemUUXDwo",
      "execution_count": 8,
      "outputs": [
        {
          "output_type": "stream",
          "name": "stdout",
          "text": [
            "hat: 0.957, stderr: 0.023, CI: (0.913, 1.002), cov=True\n",
            "R2(y): 0.402, R2(D): 0.210\n"
          ]
        }
      ]
    },
    {
      "cell_type": "code",
      "source": [
        "plt.scatter(true_modely(X), y - yres)\n",
        "plt.plot(np.linspace(np.min(y - yres), np.max(y - yres), 100),\n",
        "         np.linspace(np.min(y - yres), np.max(y - yres), 100), color='r')\n",
        "plt.show()\n",
        "plt.scatter(true_modeld(X), D - Dres)\n",
        "plt.plot(np.linspace(np.min(D - Dres), np.max(D - Dres), 100),\n",
        "         np.linspace(np.min(D - Dres), np.max(D - Dres), 100), color='r')\n",
        "plt.show()"
      ],
      "metadata": {
        "colab": {
          "base_uri": "https://localhost:8080/",
          "height": 843
        },
        "id": "76b5cSWDgbP_",
        "outputId": "65767fe9-56d3-4605-df7f-b606113a4d20"
      },
      "id": "76b5cSWDgbP_",
      "execution_count": 9,
      "outputs": [
        {
          "output_type": "display_data",
          "data": {
            "text/plain": [
              "<Figure size 640x480 with 1 Axes>"
            ],
            "image/png": "[encoded data removed]"
          },
          "metadata": {}
        },
        {
          "output_type": "display_data",
          "data": {
            "text/plain": [
              "<Figure size 640x480 with 1 Axes>"
            ],
            "image/png": "[encoded data removed]"
          },
          "metadata": {}
        }
      ]
    },
    {
      "cell_type": "code",
      "source": [
        "# Double ML method\n",
        "from joblib import Parallel, delayed\n",
        "\n",
        "def exp(it, n, d, delta=1.0, base=0.3):\n",
        "    np.random.seed(it)\n",
        "    y, D, X, _, _ = gen_data(n, d, delta, base)\n",
        "    hat, stderr, yres, Dres = doubleml(y, D, X)\n",
        "    ci = [hat - 1.96 * stderr, hat + 1.96 * stderr]\n",
        "    return hat, stderr, (ci[0] <= delta) & (delta <= ci[1])\n",
        "\n",
        "n = 10000\n",
        "d = 5\n",
        "res = Parallel(n_jobs=-1, verbose=3)(delayed(exp)(it, n, d) for it in range(100))\n",
        "hats, stderrs, cov = zip(*res)"
      ],
      "metadata": {
        "colab": {
          "base_uri": "https://localhost:8080/"
        },
        "id": "Ipzy1Fvc1ctx",
        "outputId": "3a4a7573-b1ea-4de0-dc8d-3ee7dd0acb11"
      },
      "id": "Ipzy1Fvc1ctx",
      "execution_count": 10,
      "outputs": [
        {
          "output_type": "stream",
          "name": "stderr",
          "text": [
            "[Parallel(n_jobs=-1)]: Using backend LokyBackend with 12 concurrent workers.\n",
            "[Parallel(n_jobs=-1)]: Done   8 tasks      | elapsed:    3.6s\n",
            "[Parallel(n_jobs=-1)]: Done 100 out of 100 | elapsed:   12.0s finished\n"
          ]
        }
      ]
    },
    {
      "cell_type": "code",
      "source": [
        "np.mean(cov)"
      ],
      "metadata": {
        "colab": {
          "base_uri": "https://localhost:8080/"
        },
        "id": "hAyi01Ib1e7H",
        "outputId": "bd37a47a-53c1-46a9-836a-eefe2f42fd0d"
      },
      "id": "hAyi01Ib1e7H",
      "execution_count": 11,
      "outputs": [
        {
          "output_type": "execute_result",
          "data": {
            "text/plain": [
              "0.91"
            ]
          },
          "metadata": {},
          "execution_count": 11
        }
      ]
    },
    {
      "cell_type": "code",
      "source": [
        "1 - np.mean(hats), np.std(hats), np.mean(stderrs) # very small bias compared to standard deviation"
      ],
      "metadata": {
        "colab": {
          "base_uri": "https://localhost:8080/"
        },
        "id": "Gxj1uGRU1hIf",
        "outputId": "dbe9f459-07a6-4d48-f992-1de3984091da"
      },
      "id": "Gxj1uGRU1hIf",
      "execution_count": 12,
      "outputs": [
        {
          "output_type": "execute_result",
          "data": {
            "text/plain": [
              "(0.010381750550889968, 0.02368417233119091, 0.02301517649712954)"
            ]
          },
          "metadata": {},
          "execution_count": 12
        }
      ]
    },
    {
      "cell_type": "code",
      "source": [
        "plt.hist(hats)\n",
        "plt.show()"
      ],
      "metadata": {
        "colab": {
          "base_uri": "https://localhost:8080/",
          "height": 430
        },
        "id": "aQUUoznZ1k2v",
        "outputId": "99389cfa-5e71-4386-f2b3-a3aceebaa859"
      },
      "id": "aQUUoznZ1k2v",
      "execution_count": 13,
      "outputs": [
        {
          "output_type": "display_data",
          "data": {
            "text/plain": [
              "<Figure size 640x480 with 1 Axes>"
            ],
            "image/png": "[encoded data removed]"
          },
          "metadata": {}
        }
      ]
    },
    {
      "cell_type": "markdown",
      "source": [
        "# Doubly Robust Estimator without any Assumptions"
      ],
      "metadata": {
        "id": "KWekTiy9g-dL"
      },
      "id": "KWekTiy9g-dL"
    },
    {
      "cell_type": "code",
      "source": [
        "from sklearn.model_selection import KFold\n",
        "\n",
        "def doublerobust(y, D, X,\n",
        "                 modely=generic_ml_model(),\n",
        "                 modeld=generic_ml_model()):\n",
        "    yhat0, yhat1, Dhat = np.zeros(y.shape), np.zeros(y.shape), np.zeros(D.shape)\n",
        "    for train, test in KFold(n_splits=5, shuffle=True).split(X, D):\n",
        "        yhat0[test] = modely.fit(X[train][D[train]==0], y[train][D[train]==0]).predict(X[test])\n",
        "        yhat1[test] = modely.fit(X[train][D[train]==1], y[train][D[train]==1]).predict(X[test])\n",
        "        Dhat[test] = modeld.fit(X[train], D[train]).predict(X[test])\n",
        "    yhat = yhat0 * (D == 0) + yhat1 * (D == 1)\n",
        "    alpha = D / Dhat - (1 - D) / (1 - Dhat)\n",
        "    ydr = yhat1 - yhat0 + alpha * (y - yhat)\n",
        "    point = np.mean(ydr)\n",
        "    stderr = np.sqrt(np.var(ydr) / y.shape[0])\n",
        "    return point, stderr, yhat, Dhat"
      ],
      "metadata": {
        "id": "OxPCIq8L1CKM"
      },
      "id": "OxPCIq8L1CKM",
      "execution_count": 14,
      "outputs": []
    },
    {
      "cell_type": "code",
      "source": [
        "np.random.seed(1234)\n",
        "n = 10000\n",
        "d = 5\n",
        "delta = 1.0\n",
        "base = 0.3\n",
        "y, D, X, true_modeld, true_modely = gen_data(n, d, delta, base)\n",
        "hat, stderr, yhat, Dhat = doublerobust(y, D, X) # we apply the double lasso process\n",
        "ci = [hat - 1.96 * stderr, hat + 1.96 * stderr]\n",
        "print(f\"hat: {hat:.3f}, stderr: {stderr:.3f}, CI: ({ci[0]:.3f}, {ci[1]:.3f}), cov={(ci[0] <= delta) & (delta <= ci[1])}\")\n",
        "# R^2 for outcome and treatment model\n",
        "print(f\"R2(y): {1 - np.mean((y - yhat)**2) / np.var(y):.3f}, R2(D): {1 - np.mean((D - Dhat)**2) / np.var(D):.3f}\")"
      ],
      "metadata": {
        "colab": {
          "base_uri": "https://localhost:8080/"
        },
        "id": "Cs8pJCD-0-5O",
        "outputId": "2cef9697-e0c4-43ea-f921-380fb84d001a"
      },
      "id": "Cs8pJCD-0-5O",
      "execution_count": 15,
      "outputs": [
        {
          "output_type": "stream",
          "name": "stdout",
          "text": [
            "hat: 0.964, stderr: 0.023, CI: (0.919, 1.008), cov=True\n",
            "R2(y): 0.490, R2(D): 0.212\n"
          ]
        }
      ]
    },
    {
      "cell_type": "code",
      "execution_count": 16,
      "id": "5d52c197",
      "metadata": {
        "id": "5d52c197",
        "outputId": "8e4034e7-4e61-40d7-fb59-58ada5248ded",
        "colab": {
          "base_uri": "https://localhost:8080/"
        }
      },
      "outputs": [
        {
          "output_type": "stream",
          "name": "stderr",
          "text": [
            "[Parallel(n_jobs=-1)]: Using backend LokyBackend with 12 concurrent workers.\n",
            "[Parallel(n_jobs=-1)]: Done   8 tasks      | elapsed:    1.2s\n",
            "[Parallel(n_jobs=-1)]: Done 104 tasks      | elapsed:   11.2s\n",
            "[Parallel(n_jobs=-1)]: Done 200 out of 200 | elapsed:   20.9s finished\n"
          ]
        }
      ],
      "source": [
        "# Doubly robust method\n",
        "from joblib import Parallel, delayed\n",
        "\n",
        "def exp(it, n, d, delta=1.0, base=0.3):\n",
        "    np.random.seed(it)\n",
        "    y, D, X, _, _ = gen_data(n, d, delta, base)\n",
        "    hat, stderr, yhat, Dhat = doublerobust(y, D, X)\n",
        "    ci = [hat - 1.96 * stderr, hat + 1.96 * stderr]\n",
        "    return hat, stderr, (ci[0] <= delta) & (delta <= ci[1])\n",
        "\n",
        "n = 10000\n",
        "d = 5\n",
        "res = Parallel(n_jobs=-1, verbose=3)(delayed(exp)(it, n, d) for it in range(200))\n",
        "hats, stderrs, cov = zip(*res)"
      ]
    },
    {
      "cell_type": "code",
      "execution_count": 17,
      "id": "3c289eb3",
      "metadata": {
        "id": "3c289eb3",
        "outputId": "a160fdf6-c3ce-4b9a-cf9b-c92a7ebe3114",
        "colab": {
          "base_uri": "https://localhost:8080/"
        }
      },
      "outputs": [
        {
          "output_type": "execute_result",
          "data": {
            "text/plain": [
              "0.925"
            ]
          },
          "metadata": {},
          "execution_count": 17
        }
      ],
      "source": [
        "np.mean(cov)"
      ]
    },
    {
      "cell_type": "code",
      "source": [
        "1 - np.mean(hats), np.std(hats), np.mean(stderrs) # very small bias compared to standard deviation"
      ],
      "metadata": {
        "colab": {
          "base_uri": "https://localhost:8080/"
        },
        "id": "FyaNeorg1s56",
        "outputId": "981efaa0-efac-4564-86c5-34a6f7a500d4"
      },
      "id": "FyaNeorg1s56",
      "execution_count": 18,
      "outputs": [
        {
          "output_type": "execute_result",
          "data": {
            "text/plain": [
              "(0.0077342862032425685, 0.024208955205974783, 0.023682118141031515)"
            ]
          },
          "metadata": {},
          "execution_count": 18
        }
      ]
    },
    {
      "cell_type": "code",
      "source": [
        "plt.hist(hats)\n",
        "plt.show()"
      ],
      "metadata": {
        "colab": {
          "base_uri": "https://localhost:8080/",
          "height": 430
        },
        "id": "D1Jw8BXX1xwP",
        "outputId": "2eaef703-c0fd-4c52-a585-28eb6fd1a290"
      },
      "id": "D1Jw8BXX1xwP",
      "execution_count": 19,
      "outputs": [
        {
          "output_type": "display_data",
          "data": {
            "text/plain": [
              "<Figure size 640x480 with 1 Axes>"
            ],
            "image/png": "[encoded data removed]"
          },
          "metadata": {}
        }
      ]
    },
    {
      "cell_type": "markdown",
      "source": [
        "# Double ML with Auto-ML Estimators and Semi-Crossfitting"
      ],
      "metadata": {
        "id": "HXwsdZCshK05"
      },
      "id": "HXwsdZCshK05"
    },
    {
      "cell_type": "code",
      "source": [
        "!pip install flaml"
      ],
      "metadata": {
        "id": "nyXKNipm1x_c"
      },
      "id": "nyXKNipm1x_c",
      "execution_count": null,
      "outputs": []
    },
    {
      "cell_type": "code",
      "source": [
        "from sklearn.model_selection import cross_val_predict\n",
        "from flaml import AutoML\n",
        "\n",
        "def automl_model():\n",
        "    return AutoML(time_budget=10, task='regression', early_stop=True,\n",
        "                  max_iter=1000, eval_method='holdout', metric='r2',\n",
        "                  split_ratio=0.2, verbose=0,\n",
        "                  estimator_list=['rf', 'lgbm', 'xgboost', 'xgb_limitdepth',\n",
        "                                  'extra_tree', 'enet', 'sgd', 'lassolars'])\n",
        "\n",
        "def auto_doubleml(y, D, X,\n",
        "                  modely=automl_model(),\n",
        "                  modeld=automl_model()):\n",
        "    modely.fit(X, y)\n",
        "    print(f\"Chosen modely: {modely.best_estimator}\")\n",
        "    modely = modely.best_model_for_estimator(modely.best_estimator)\n",
        "    print(\"Parameters: \", modely.params)\n",
        "    modeld.fit(X, D)\n",
        "    print(f\"Chosen modeld: {modeld.best_estimator}\")\n",
        "    modeld = modeld.best_model_for_estimator(modeld.best_estimator)\n",
        "    print(\"Parameters: \", modeld.params)\n",
        "    yres = y - cross_val_predict(modely, X, y, cv=5)\n",
        "    Dres = D - cross_val_predict(modeld, X, D, cv=5)\n",
        "    # rest is the same as in the OLS case\n",
        "    hat = np.mean(yres * Dres) / np.mean(Dres**2)\n",
        "    epsilon = yres - hat * Dres\n",
        "    V = np.mean(epsilon**2 * Dres**2) / np.mean(Dres**2)**2\n",
        "    return hat, np.sqrt(V / y.shape[0]), yres, Dres"
      ],
      "metadata": {
        "id": "aj416fJpDNpC"
      },
      "id": "aj416fJpDNpC",
      "execution_count": 21,
      "outputs": []
    },
    {
      "cell_type": "code",
      "source": [
        "np.random.seed(1234)\n",
        "n = 10000\n",
        "d = 10\n",
        "delta = 1.0\n",
        "base = 0.3\n",
        "y, D, X, true_modeld, true_modely = gen_data(n, d, delta, base)\n",
        "hat, stderr, yres, Dres = auto_doubleml(y, D, X)\n",
        "ci = [hat - 1.96 * stderr, hat + 1.96 * stderr]\n",
        "print(f\"hat: {hat:.3f}, stderr: {stderr:.3f}, CI: ({ci[0]:.3f}, {ci[1]:.3f}), cov={(ci[0] <= delta) & (delta <= ci[1])}\")\n",
        "# R^2 for outcome and treatment model\n",
        "print(f\"R2(y): {1 - np.mean(yres**2) / np.var(y):.3f}, R2(D): {1 - np.mean(Dres**2) / np.var(D):.3f}\")"
      ],
      "metadata": {
        "colab": {
          "base_uri": "https://localhost:8080/"
        },
        "id": "efHAcMq-EqSo",
        "outputId": "0e05a518-7dc8-42c6-ac04-563b5fe85863"
      },
      "id": "efHAcMq-EqSo",
      "execution_count": 22,
      "outputs": [
        {
          "output_type": "stream",
          "name": "stderr",
          "text": [
            "INFO:flaml.tune.searcher.blendsearch:No low-cost partial config given to the search algorithm. For cost-frugal search, consider providing low-cost values for cost-related hps via 'low_cost_partial_config'. More info can be found at https://microsoft.github.io/FLAML/docs/FAQ#about-low_cost_partial_config-in-tune\n",
            "INFO:flaml.tune.searcher.blendsearch:No low-cost partial config given to the search algorithm. For cost-frugal search, consider providing low-cost values for cost-related hps via 'low_cost_partial_config'. More info can be found at https://microsoft.github.io/FLAML/docs/FAQ#about-low_cost_partial_config-in-tune\n",
            "INFO:flaml.tune.searcher.blendsearch:No low-cost partial config given to the search algorithm. For cost-frugal search, consider providing low-cost values for cost-related hps via 'low_cost_partial_config'. More info can be found at https://microsoft.github.io/FLAML/docs/FAQ#about-low_cost_partial_config-in-tune\n"
          ]
        },
        {
          "output_type": "stream",
          "name": "stdout",
          "text": [
            "Chosen modely: lassolars\n",
            "Parameters:  {'alpha': 0.03930090379341948, 'fit_intercept': True, 'eps': 1e-16}\n"
          ]
        },
        {
          "output_type": "stream",
          "name": "stderr",
          "text": [
            "INFO:flaml.tune.searcher.blendsearch:No low-cost partial config given to the search algorithm. For cost-frugal search, consider providing low-cost values for cost-related hps via 'low_cost_partial_config'. More info can be found at https://microsoft.github.io/FLAML/docs/FAQ#about-low_cost_partial_config-in-tune\n",
            "INFO:flaml.tune.searcher.blendsearch:No low-cost partial config given to the search algorithm. For cost-frugal search, consider providing low-cost values for cost-related hps via 'low_cost_partial_config'. More info can be found at https://microsoft.github.io/FLAML/docs/FAQ#about-low_cost_partial_config-in-tune\n",
            "INFO:flaml.tune.searcher.blendsearch:No low-cost partial config given to the search algorithm. For cost-frugal search, consider providing low-cost values for cost-related hps via 'low_cost_partial_config'. More info can be found at https://microsoft.github.io/FLAML/docs/FAQ#about-low_cost_partial_config-in-tune\n"
          ]
        },
        {
          "output_type": "stream",
          "name": "stdout",
          "text": [
            "Chosen modeld: extra_tree\n",
            "Parameters:  {'n_estimators': 4, 'max_features': 1.0, 'n_jobs': -1, 'max_leaf_nodes': 9, 'random_state': 12032022, 'verbose': 0}\n",
            "hat: 0.951, stderr: 0.023, CI: (0.905, 0.997), cov=False\n",
            "R2(y): 0.418, R2(D): 0.250\n"
          ]
        }
      ]
    },
    {
      "cell_type": "code",
      "source": [
        "plt.scatter(true_modely(X), y - yres)\n",
        "plt.plot(np.linspace(np.min(y - yres), np.max(y - yres), 100),\n",
        "         np.linspace(np.min(y - yres), np.max(y - yres), 100), color='r')\n",
        "plt.show()\n",
        "plt.scatter(true_modeld(X), D - Dres)\n",
        "plt.plot(np.linspace(np.min(D - Dres), np.max(D - Dres), 100),\n",
        "         np.linspace(np.min(D - Dres), np.max(D - Dres), 100), color='r')\n",
        "plt.show()"
      ],
      "metadata": {
        "colab": {
          "base_uri": "https://localhost:8080/",
          "height": 843
        },
        "id": "gNYp-DpFDP7w",
        "outputId": "4fd4d9f2-b091-4e60-be8d-282824bc4410"
      },
      "id": "gNYp-DpFDP7w",
      "execution_count": 23,
      "outputs": [
        {
          "output_type": "display_data",
          "data": {
            "text/plain": [
              "<Figure size 640x480 with 1 Axes>"
            ],
            "image/png": "[encoded data removed]"
          },
          "metadata": {}
        },
        {
          "output_type": "display_data",
          "data": {
            "text/plain": [
              "<Figure size 640x480 with 1 Axes>"
            ],
            "image/png": "[encoded data removed]"
          },
          "metadata": {}
        }
      ]
    },
    {
      "cell_type": "code",
      "source": [
        "# Double ML method\n",
        "from joblib import Parallel, delayed\n",
        "\n",
        "def exp(it, n, d, delta=1.0, base=0.3):\n",
        "    np.random.seed(it)\n",
        "    y, D, X, _, _ = gen_data(n, d, delta, base)\n",
        "    hat, stderr, yres, Dres = auto_doubleml(y, D, X)\n",
        "    ci = [hat - 1.96 * stderr, hat + 1.96 * stderr]\n",
        "    return hat, stderr, (ci[0] <= delta) & (delta <= ci[1])\n",
        "\n",
        "n = 10000\n",
        "d = 5\n",
        "res = Parallel(n_jobs=-1, verbose=3)(delayed(exp)(it, n, d) for it in range(100))\n",
        "hats, stderrs, cov = zip(*res)"
      ],
      "metadata": {
        "colab": {
          "base_uri": "https://localhost:8080/"
        },
        "id": "1Vhp3YRyEukt",
        "outputId": "d8a60e7b-60e3-4544-d789-f300582be0a1"
      },
      "id": "1Vhp3YRyEukt",
      "execution_count": 24,
      "outputs": [
        {
          "output_type": "stream",
          "name": "stderr",
          "text": [
            "[Parallel(n_jobs=-1)]: Using backend LokyBackend with 12 concurrent workers.\n",
            "[Parallel(n_jobs=-1)]: Done   8 tasks      | elapsed:   23.1s\n",
            "[Parallel(n_jobs=-1)]: Done 100 out of 100 | elapsed:  3.2min finished\n"
          ]
        }
      ]
    },
    {
      "cell_type": "code",
      "source": [
        "np.mean(cov)"
      ],
      "metadata": {
        "colab": {
          "base_uri": "https://localhost:8080/"
        },
        "id": "LgW8vGB0XCAe",
        "outputId": "c1900260-ef61-4cd6-a0a6-fa0258f89c32"
      },
      "id": "LgW8vGB0XCAe",
      "execution_count": 25,
      "outputs": [
        {
          "output_type": "execute_result",
          "data": {
            "text/plain": [
              "0.96"
            ]
          },
          "metadata": {},
          "execution_count": 25
        }
      ]
    },
    {
      "cell_type": "code",
      "source": [
        "1 - np.mean(hats), np.std(hats), np.mean(stderrs) # very small bias compared to standard deviation"
      ],
      "metadata": {
        "colab": {
          "base_uri": "https://localhost:8080/"
        },
        "id": "1A32Cbi2XCVB",
        "outputId": "97176284-b7b0-4fbc-ca02-475edad2bacd"
      },
      "id": "1A32Cbi2XCVB",
      "execution_count": 26,
      "outputs": [
        {
          "output_type": "execute_result",
          "data": {
            "text/plain": [
              "(-0.0002590978843490799, 0.0226547389654036, 0.022903920762728004)"
            ]
          },
          "metadata": {},
          "execution_count": 26
        }
      ]
    },
    {
      "cell_type": "markdown",
      "source": [
        "# Automatic Doubly Robust Method: Automatic Estimation of alpha function"
      ],
      "metadata": {
        "id": "tFXwf7OphEOW"
      },
      "id": "tFXwf7OphEOW"
    },
    {
      "cell_type": "code",
      "source": [
        "!git clone https://github.com/victor5as/RieszLearning.git\n",
        "!pip install econml"
      ],
      "metadata": {
        "id": "Tih4RriPhJsK"
      },
      "id": "Tih4RriPhJsK",
      "execution_count": null,
      "outputs": []
    },
    {
      "cell_type": "code",
      "source": [
        "from RieszLearning.utils.forestriesz import RFrr, poly_feature_fns\n",
        "from RieszLearning.utils.moments import ate_moment_fn\n",
        "from sklearn.model_selection import KFold\n",
        "\n",
        "\n",
        "def generic_riesz_model():\n",
        "    return RFrr(riesz_feature_fns=poly_feature_fns(1), moment_fn=lambda x, test_fn: ate_moment_fn(x, test_fn, None))\n",
        "\n",
        "def autodml(y, D, X,\n",
        "            modely=generic_ml_model(),\n",
        "            modelriesz=generic_riesz_model()):\n",
        "    yhat0, yhat1, alpha = np.zeros(y.shape), np.zeros(y.shape), np.zeros(D.shape)\n",
        "    for train, test in KFold(n_splits=5, shuffle=True).split(X, D):\n",
        "        yhat0[test] = modely.fit(X[train][D[train]==0], y[train][D[train]==0]).predict(X[test])\n",
        "        yhat1[test] = modely.fit(X[train][D[train]==1], y[train][D[train]==1]).predict(X[test])\n",
        "        alpha[test] = modelriesz.fit(X[train], D[train], y[train]).predict_riesz(np.hstack([D[test].reshape(-1, 1), X[test]]))\n",
        "    yhat = yhat0 * (D == 0) + yhat1 * (D == 1)\n",
        "    ydr = yhat1 - yhat0 + alpha * (y - yhat)\n",
        "    point = np.mean(ydr)\n",
        "    stderr = np.sqrt(np.var(ydr) / y.shape[0])\n",
        "    return point, stderr, yhat, Dhat"
      ],
      "metadata": {
        "id": "CWo0oLnFg4TH"
      },
      "id": "CWo0oLnFg4TH",
      "execution_count": 28,
      "outputs": []
    },
    {
      "cell_type": "code",
      "source": [
        "np.random.seed(1234)\n",
        "n = 10000\n",
        "d = 5\n",
        "delta = 1.0\n",
        "base = 0.3\n",
        "y, D, X, true_modeld, true_modely = gen_data(n, d, delta, base)\n",
        "hat, stderr, yhat, Dhat = autodml(y, D, X) # we apply the double lasso process\n",
        "ci = [hat - 1.96 * stderr, hat + 1.96 * stderr]\n",
        "print(f\"hat: {hat:.3f}, stderr: {stderr:.3f}, CI: ({ci[0]:.3f}, {ci[1]:.3f}), cov={(ci[0] <= delta) & (delta <= ci[1])}\")\n",
        "# R^2 for outcome and treatment model\n",
        "print(f\"R2(y): {1 - np.mean((y - yhat)**2) / np.var(y):.3f}, R2(D): {1 - np.mean((D - Dhat)**2) / np.var(D):.3f}\")"
      ],
      "metadata": {
        "colab": {
          "base_uri": "https://localhost:8080/"
        },
        "id": "o-k1fB8lhR_l",
        "outputId": "44c6fb42-b72f-4e2e-c167-34879bfae6c2"
      },
      "id": "o-k1fB8lhR_l",
      "execution_count": 29,
      "outputs": [
        {
          "output_type": "stream",
          "name": "stdout",
          "text": [
            "hat: 0.961, stderr: 0.022, CI: (0.919, 1.004), cov=True\n",
            "R2(y): 0.492, R2(D): 0.212\n"
          ]
        }
      ]
    },
    {
      "cell_type": "code",
      "source": [
        "# Doubly robust method\n",
        "from joblib import Parallel, delayed\n",
        "\n",
        "def exp(it, n, d, delta=1.0, base=0.3):\n",
        "    np.random.seed(it)\n",
        "    y, D, X, _, _ = gen_data(n, d, delta, base)\n",
        "    hat, stderr, yhat, Dhat = autodml(y, D, X)\n",
        "    ci = [hat - 1.96 * stderr, hat + 1.96 * stderr]\n",
        "    return hat, stderr, (ci[0] <= delta) & (delta <= ci[1])\n",
        "\n",
        "n = 10000\n",
        "d = 5\n",
        "res = Parallel(n_jobs=-1, verbose=3)(delayed(exp)(it, n, d) for it in range(200))\n",
        "hats, stderrs, cov = zip(*res)"
      ],
      "metadata": {
        "colab": {
          "base_uri": "https://localhost:8080/"
        },
        "id": "lC0K0DwXhVNU",
        "outputId": "119b902f-4e37-46db-bdeb-cda1a3797403"
      },
      "id": "lC0K0DwXhVNU",
      "execution_count": 30,
      "outputs": [
        {
          "output_type": "stream",
          "name": "stderr",
          "text": [
            "[Parallel(n_jobs=-1)]: Using backend LokyBackend with 12 concurrent workers.\n",
            "[Parallel(n_jobs=-1)]: Done   8 tasks      | elapsed:   32.0s\n",
            "[Parallel(n_jobs=-1)]: Done 104 tasks      | elapsed:  3.5min\n",
            "[Parallel(n_jobs=-1)]: Done 200 out of 200 | elapsed:  6.2min finished\n"
          ]
        }
      ]
    },
    {
      "cell_type": "code",
      "source": [
        "np.mean(cov)"
      ],
      "metadata": {
        "colab": {
          "base_uri": "https://localhost:8080/"
        },
        "id": "ce98s0EWhYXm",
        "outputId": "bedfaa9c-3774-44ea-d89c-9128140cd965"
      },
      "id": "ce98s0EWhYXm",
      "execution_count": 31,
      "outputs": [
        {
          "output_type": "execute_result",
          "data": {
            "text/plain": [
              "0.915"
            ]
          },
          "metadata": {},
          "execution_count": 31
        }
      ]
    },
    {
      "cell_type": "code",
      "source": [
        "1 - np.mean(hats), np.std(hats), np.mean(stderrs) # very small bias compared to standard deviation"
      ],
      "metadata": {
        "colab": {
          "base_uri": "https://localhost:8080/"
        },
        "id": "ay3FW3CAhZ4s",
        "outputId": "7e40aaa2-3f1b-4016-e381-dfb8173b0885"
      },
      "id": "ay3FW3CAhZ4s",
      "execution_count": 32,
      "outputs": [
        {
          "output_type": "execute_result",
          "data": {
            "text/plain": [
              "(0.00708533478394946, 0.024362031297142244, 0.0223167931352133)"
            ]
          },
          "metadata": {},
          "execution_count": 32
        }
      ]
    }
  ],
  "metadata": {
    "kernelspec": {
      "display_name": "Python 3",
      "name": "python3"
    },
    "language_info": {
      "codemirror_mode": {
        "name": "ipython",
        "version": 3
      },
      "file_extension": ".py",
      "mimetype": "text/x-python",
      "name": "python",
      "nbconvert_exporter": "python",
      "pygments_lexer": "ipython3",
      "version": "3.12.3"
    },
    "colab": {
      "provenance": [],
      "machine_shape": "hm",
      "gpuType": "A100"
    },
    "accelerator": "GPU"
  },
  "nbformat": 4,
  "nbformat_minor": 5
}